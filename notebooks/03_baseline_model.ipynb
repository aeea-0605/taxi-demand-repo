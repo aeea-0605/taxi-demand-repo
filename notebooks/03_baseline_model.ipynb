{
 "cells": [
  {
   "cell_type": "markdown",
   "id": "22cf1a4c",
   "metadata": {},
   "source": [
    "## Baseline Model : Simple Regression"
   ]
  },
  {
   "cell_type": "code",
   "execution_count": 1,
   "id": "01b28730",
   "metadata": {},
   "outputs": [],
   "source": [
    "from sklearn.preprocessing import OneHotEncoder\n",
    "from sklearn.linear_model import LinearRegression\n",
    "from sklearn.metrics import mean_absolute_error, mean_squared_error\n",
    "from utils import info, split_train_and_test_period"
   ]
  },
  {
   "cell_type": "markdown",
   "id": "d91b6dd6",
   "metadata": {},
   "source": [
    "### 데이터 로드 & 전처리\n",
    "- 02_preprocess에서 최종적으로 정의한 Query 사용"
   ]
  },
  {
   "cell_type": "code",
   "execution_count": 2,
   "id": "8a031e98",
   "metadata": {},
   "outputs": [
    {
     "name": "stdout",
     "output_type": "stream",
     "text": [
      "CPU times: user 1.44 s, sys: 130 ms, total: 1.57 s\n",
      "Wall time: 23.2 s\n"
     ]
    }
   ],
   "source": [
    "%%time\n",
    "base_query = \"\"\"\n",
    "WITH base_data AS \n",
    "(\n",
    "    SELECT nyc_taxi.*, gis.* EXCEPT (zip_code_geom)\n",
    "    FROM (\n",
    "        SELECT *\n",
    "        FROM `bigquery-public-data.new_york_taxi_trips.tlc_yellow_trips_2015`\n",
    "        WHERE \n",
    "            EXTRACT(MONTH from pickup_datetime) = 1\n",
    "            and pickup_latitude  <= 90 and pickup_latitude >= -90\n",
    "        ) AS nyc_taxi\n",
    "    JOIN (\n",
    "        SELECT zip_code, state_code, state_name, city, county, zip_code_geom\n",
    "        FROM `bigquery-public-data.geo_us_boundaries.zip_codes`\n",
    "        WHERE state_code='NY'\n",
    "        ) AS gis \n",
    "    ON ST_CONTAINS(zip_code_geom, st_geogpoint(pickup_longitude, pickup_latitude))\n",
    ")\n",
    "\n",
    "SELECT\n",
    "    zip_code,\n",
    "    pickup_hour,\n",
    "    EXTRACT(MONTH FROM pickup_hour) AS month,\n",
    "    EXTRACT(DAY FROM pickup_hour) AS day,\n",
    "    CAST(format_datetime('%u', pickup_hour) AS INT64) -1 AS weekday,\n",
    "    EXTRACT(HOUR FROM pickup_hour) AS hour,\n",
    "    CASE WHEN CAST(FORMAT_DATETIME('%u', pickup_hour) AS INT64) IN (6, 7) THEN 1 ELSE 0 END AS is_weekend,\n",
    "    cnt\n",
    "FROM (\n",
    "    SELECT \n",
    "        DATETIME_TRUNC(pickup_datetime, hour) AS pickup_hour,\n",
    "        count(*) AS cnt,\n",
    "        zip_code\n",
    "    FROM base_data\n",
    "    GROUP BY pickup_hour, zip_code\n",
    ")\n",
    "ORDER BY pickup_hour\n",
    "\"\"\"\n",
    "\n",
    "base_df = pd.read_gbq(query=base_query, dialect='standard', project_id=info['project'])"
   ]
  },
  {
   "cell_type": "markdown",
   "id": "a0e69c63",
   "metadata": {},
   "source": [
    "#### Target 분포 파악\n",
    "- 왼쪽으로 심하게 몰린 비대칭적인 분포를 띄기에 log를 적용해 Normalization"
   ]
  },
  {
   "cell_type": "code",
   "execution_count": 4,
   "id": "4a3437bc",
   "metadata": {},
   "outputs": [
    {
     "data": {
      "image/png": "[encoded data removed]",
      "text/plain": [
       "<Figure size 1152x288 with 2 Axes>"
      ]
     },
     "metadata": {
      "needs_background": "light"
     },
     "output_type": "display_data"
    }
   ],
   "source": [
    "plt.figure(figsize=(16, 4))\n",
    "\n",
    "# raw_cnt 분포\n",
    "plt.subplot(121)\n",
    "sns.distplot(base_df['cnt'])\n",
    "plt.title('Raw Target', fontsize=15)\n",
    "\n",
    "# Log Scaling cnt 분포\n",
    "plt.subplot(122)\n",
    "sns.distplot(np.log10(base_df['cnt']))\n",
    "plt.title('Log scaled Target', fontsize=15)\n",
    "\n",
    "plt.show()"
   ]
  },
  {
   "cell_type": "code",
   "execution_count": 13,
   "id": "b3cc454f",
   "metadata": {},
   "outputs": [],
   "source": [
    "# log_cnt 생성\n",
    "base_df['log_cnt'] = np.log10(base_df['cnt'])"
   ]
  },
  {
   "cell_type": "markdown",
   "id": "69816154",
   "metadata": {},
   "source": [
    "### Train / Test Split"
   ]
  },
  {
   "cell_type": "code",
   "execution_count": 14,
   "id": "9569a309",
   "metadata": {},
   "outputs": [],
   "source": [
    "train_df, test_df = split_train_and_test_period(base_df, 7)"
   ]
  },
  {
   "cell_type": "code",
   "execution_count": 15,
   "id": "4f1b0efe",
   "metadata": {},
   "outputs": [],
   "source": [
    "def split_x_and_y_log(train_df, test_df, y):\n",
    "    train_df.drop(columns=['zip_code', 'pickup_hour'], inplace=True)\n",
    "    test_df.drop(columns=['zip_code', 'pickup_hour'], inplace=True)\n",
    "    \n",
    "    y_train_raw = train_df.pop('cnt')\n",
    "    y_train_log = train_df.pop(y)\n",
    "    y_test_raw = test_df.pop('cnt')\n",
    "    y_test_log = test_df.pop(y)\n",
    "    \n",
    "    x_train = train_df.copy()\n",
    "    x_test = test_df.copy()\n",
    "    \n",
    "    return x_train, x_test, y_train_log, y_test_raw, y_test_log"
   ]
  },
  {
   "cell_type": "code",
   "execution_count": 17,
   "id": "01f60ffe",
   "metadata": {},
   "outputs": [],
   "source": [
    "x_train, x_test, y_train_log, y_test_raw, y_test_log = split_x_and_y_log(train_df, test_df, y='log_cnt')"
   ]
  },
  {
   "cell_type": "markdown",
   "id": "6af21128",
   "metadata": {},
   "source": [
    "### Simple Regression (One-Hot Encoding X)"
   ]
  },
  {
   "cell_type": "code",
   "execution_count": 18,
   "id": "0819e6f3",
   "metadata": {},
   "outputs": [],
   "source": [
    "def evaluation(y_true, y_pred): \n",
    "    y_true, y_pred = np.array(y_true), np.array(y_pred)\n",
    "    mape = np.mean(np.abs((y_true - y_pred) / y_true)) * 100\n",
    "    mae = mean_absolute_error(y_true, y_pred)\n",
    "    mse = mean_squared_error(y_true, y_pred)\n",
    "    score = pd.DataFrame([mape, mae, mse], index=['mape', 'mae', 'mse'], columns=['score']).T\n",
    "    return score"
   ]
  },
  {
   "cell_type": "code",
   "execution_count": 19,
   "id": "0bb22a6f",
   "metadata": {},
   "outputs": [],
   "source": [
    "lr_reg = LinearRegression()\n",
    "lr_reg.fit(x_train, y_train_log)\n",
    "pred = lr_reg.predict(x_test)\n",
    "\n",
    "test_df['pred_log']= pred\n",
    "test_df['pred_reverse'] = 10**pred\n",
    "\n",
    "test_df['real_log'] = y_test_log\n",
    "test_df['real_raw'] = y_test_raw"
   ]
  },
  {
   "cell_type": "code",
   "execution_count": 20,
   "id": "e4a3bacc",
   "metadata": {},
   "outputs": [
    {
     "data": {
      "text/html": [
       "<div>\n",
       "<style scoped>\n",
       "    .dataframe tbody tr th:only-of-type {\n",
       "        vertical-align: middle;\n",
       "    }\n",
       "\n",
       "    .dataframe tbody tr th {\n",
       "        vertical-align: top;\n",
       "    }\n",
       "\n",
       "    .dataframe thead th {\n",
       "        text-align: right;\n",
       "    }\n",
       "</style>\n",
       "<table border=\"1\" class=\"dataframe\">\n",
       "  <thead>\n",
       "    <tr style=\"text-align: right;\">\n",
       "      <th></th>\n",
       "      <th>mape</th>\n",
       "      <th>mae</th>\n",
       "      <th>mse</th>\n",
       "    </tr>\n",
       "  </thead>\n",
       "  <tbody>\n",
       "    <tr>\n",
       "      <th>score</th>\n",
       "      <td>464.222737</td>\n",
       "      <td>131.703921</td>\n",
       "      <td>103723.801952</td>\n",
       "    </tr>\n",
       "  </tbody>\n",
       "</table>\n",
       "</div>"
      ],
      "text/plain": [
       "             mape         mae            mse\n",
       "score  464.222737  131.703921  103723.801952"
      ]
     },
     "execution_count": 20,
     "metadata": {},
     "output_type": "execute_result"
    }
   ],
   "source": [
    "# 실제값과 로그변환을 한 예측값 비교\n",
    "evaluation(test_df['real_raw'], test_df['pred_reverse'])"
   ]
  },
  {
   "cell_type": "code",
   "execution_count": 21,
   "id": "cabccc7e",
   "metadata": {},
   "outputs": [
    {
     "data": {
      "image/png": "[encoded data removed]",
      "text/plain": [
       "<Figure size 432x288 with 1 Axes>"
      ]
     },
     "metadata": {
      "needs_background": "light"
     },
     "output_type": "display_data"
    }
   ],
   "source": [
    "# Feature Importance\n",
    "coef = pd.Series(lr_reg.coef_ , index=x_train.columns).sort_values(ascending=False)\n",
    "sns.barplot(x=coef.values , y=coef.index);"
   ]
  },
  {
   "cell_type": "markdown",
   "id": "4334040f",
   "metadata": {},
   "source": [
    "### Simple Regression (One Hot Encoding 적용)"
   ]
  },
  {
   "cell_type": "code",
   "execution_count": 22,
   "id": "03fa6675",
   "metadata": {},
   "outputs": [
    {
     "data": {
      "text/html": [
       "<div>\n",
       "<style scoped>\n",
       "    .dataframe tbody tr th:only-of-type {\n",
       "        vertical-align: middle;\n",
       "    }\n",
       "\n",
       "    .dataframe tbody tr th {\n",
       "        vertical-align: top;\n",
       "    }\n",
       "\n",
       "    .dataframe thead th {\n",
       "        text-align: right;\n",
       "    }\n",
       "</style>\n",
       "<table border=\"1\" class=\"dataframe\">\n",
       "  <thead>\n",
       "    <tr style=\"text-align: right;\">\n",
       "      <th></th>\n",
       "      <th>zip_code</th>\n",
       "      <th>pickup_hour</th>\n",
       "      <th>month</th>\n",
       "      <th>day</th>\n",
       "      <th>weekday</th>\n",
       "      <th>hour</th>\n",
       "      <th>is_weekend</th>\n",
       "      <th>cnt</th>\n",
       "      <th>log_cnt</th>\n",
       "      <th>zip_code_10001</th>\n",
       "      <th>...</th>\n",
       "      <th>zip_code_12601</th>\n",
       "      <th>zip_code_12729</th>\n",
       "      <th>zip_code_12771</th>\n",
       "      <th>zip_code_13029</th>\n",
       "      <th>zip_code_13118</th>\n",
       "      <th>zip_code_13656</th>\n",
       "      <th>zip_code_13691</th>\n",
       "      <th>zip_code_14072</th>\n",
       "      <th>zip_code_14527</th>\n",
       "      <th>zip_code_14801</th>\n",
       "    </tr>\n",
       "  </thead>\n",
       "  <tbody>\n",
       "    <tr>\n",
       "      <th>0</th>\n",
       "      <td>10075</td>\n",
       "      <td>2015-01-01</td>\n",
       "      <td>1</td>\n",
       "      <td>1</td>\n",
       "      <td>3</td>\n",
       "      <td>0</td>\n",
       "      <td>0</td>\n",
       "      <td>444</td>\n",
       "      <td>2.647383</td>\n",
       "      <td>0.0</td>\n",
       "      <td>...</td>\n",
       "      <td>0.0</td>\n",
       "      <td>0.0</td>\n",
       "      <td>0.0</td>\n",
       "      <td>0.0</td>\n",
       "      <td>0.0</td>\n",
       "      <td>0.0</td>\n",
       "      <td>0.0</td>\n",
       "      <td>0.0</td>\n",
       "      <td>0.0</td>\n",
       "      <td>0.0</td>\n",
       "    </tr>\n",
       "    <tr>\n",
       "      <th>1</th>\n",
       "      <td>11201</td>\n",
       "      <td>2015-01-01</td>\n",
       "      <td>1</td>\n",
       "      <td>1</td>\n",
       "      <td>3</td>\n",
       "      <td>0</td>\n",
       "      <td>0</td>\n",
       "      <td>169</td>\n",
       "      <td>2.227887</td>\n",
       "      <td>0.0</td>\n",
       "      <td>...</td>\n",
       "      <td>0.0</td>\n",
       "      <td>0.0</td>\n",
       "      <td>0.0</td>\n",
       "      <td>0.0</td>\n",
       "      <td>0.0</td>\n",
       "      <td>0.0</td>\n",
       "      <td>0.0</td>\n",
       "      <td>0.0</td>\n",
       "      <td>0.0</td>\n",
       "      <td>0.0</td>\n",
       "    </tr>\n",
       "  </tbody>\n",
       "</table>\n",
       "<p>2 rows × 383 columns</p>\n",
       "</div>"
      ],
      "text/plain": [
       "  zip_code pickup_hour  month  day  weekday  hour  is_weekend  cnt   log_cnt  \\\n",
       "0    10075  2015-01-01      1    1        3     0           0  444  2.647383   \n",
       "1    11201  2015-01-01      1    1        3     0           0  169  2.227887   \n",
       "\n",
       "   zip_code_10001  ...  zip_code_12601  zip_code_12729  zip_code_12771  \\\n",
       "0             0.0  ...             0.0             0.0             0.0   \n",
       "1             0.0  ...             0.0             0.0             0.0   \n",
       "\n",
       "   zip_code_13029  zip_code_13118  zip_code_13656  zip_code_13691  \\\n",
       "0             0.0             0.0             0.0             0.0   \n",
       "1             0.0             0.0             0.0             0.0   \n",
       "\n",
       "   zip_code_14072  zip_code_14527  zip_code_14801  \n",
       "0             0.0             0.0             0.0  \n",
       "1             0.0             0.0             0.0  \n",
       "\n",
       "[2 rows x 383 columns]"
      ]
     },
     "execution_count": 22,
     "metadata": {},
     "output_type": "execute_result"
    }
   ],
   "source": [
    "enc = OneHotEncoder(handle_unknown='ignore')\n",
    "\n",
    "ohe_output = enc.fit_transform(base_df[['zip_code']]).toarray()\n",
    "ohe_df = pd.concat([base_df, pd.DataFrame(ohe_output, columns='zip_code_'+ enc.categories_[0])], axis=1)\n",
    "\n",
    "ohe_df.head(2)"
   ]
  },
  {
   "cell_type": "code",
   "execution_count": 23,
   "id": "4d8ea0b0",
   "metadata": {},
   "outputs": [],
   "source": [
    "ohe_df['log_cnt'] = np.log10(ohe_df['cnt'])\n",
    "train_df, test_df = split_train_and_test_period(ohe_df, 7)\n",
    "\n",
    "x_train, x_test, y_train_log, y_test_raw, y_test_log = split_x_and_y_log(train_df, test_df, y='log_cnt')"
   ]
  },
  {
   "cell_type": "code",
   "execution_count": 24,
   "id": "5b8fddb3",
   "metadata": {},
   "outputs": [],
   "source": [
    "lr_reg_2 = LinearRegression()\n",
    "lr_reg_2.fit(x_train, y_train_log)\n",
    "pred_2 = lr_reg_2.predict(x_test)\n",
    "\n",
    "test_df['pred_log']= pred_2\n",
    "test_df['pred_reverse'] = 10**pred_2\n",
    "test_df['real_log'] = y_test_log\n",
    "test_df['real_raw'] = y_test_raw\n",
    "\n",
    "# inf를 제외하기 위한 전처리\n",
    "test_df = test_df[np.isfinite(test_df).all(1)]"
   ]
  },
  {
   "cell_type": "code",
   "execution_count": 26,
   "id": "ca47f164",
   "metadata": {},
   "outputs": [
    {
     "data": {
      "text/html": [
       "<div>\n",
       "<style scoped>\n",
       "    .dataframe tbody tr th:only-of-type {\n",
       "        vertical-align: middle;\n",
       "    }\n",
       "\n",
       "    .dataframe tbody tr th {\n",
       "        vertical-align: top;\n",
       "    }\n",
       "\n",
       "    .dataframe thead th {\n",
       "        text-align: right;\n",
       "    }\n",
       "</style>\n",
       "<table border=\"1\" class=\"dataframe\">\n",
       "  <thead>\n",
       "    <tr style=\"text-align: right;\">\n",
       "      <th></th>\n",
       "      <th>mape</th>\n",
       "      <th>mae</th>\n",
       "      <th>mse</th>\n",
       "    </tr>\n",
       "  </thead>\n",
       "  <tbody>\n",
       "    <tr>\n",
       "      <th>score</th>\n",
       "      <td>244.94387</td>\n",
       "      <td>67.00893</td>\n",
       "      <td>27045.484961</td>\n",
       "    </tr>\n",
       "  </tbody>\n",
       "</table>\n",
       "</div>"
      ],
      "text/plain": [
       "            mape       mae           mse\n",
       "score  244.94387  67.00893  27045.484961"
      ]
     },
     "execution_count": 26,
     "metadata": {},
     "output_type": "execute_result"
    }
   ],
   "source": [
    "evaluation(test_df['real_raw'], test_df['pred_reverse'])"
   ]
  },
  {
   "cell_type": "code",
   "execution_count": 27,
   "id": "53a8de5b",
   "metadata": {},
   "outputs": [
    {
     "data": {
      "image/png": "[encoded data removed]",
      "text/plain": [
       "<Figure size 432x288 with 1 Axes>"
      ]
     },
     "metadata": {
      "needs_background": "light"
     },
     "output_type": "display_data"
    }
   ],
   "source": [
    "coef = pd.Series(lr_reg_2.coef_ , index=x_train.columns).sort_values(ascending=False)[:10]\n",
    "sns.barplot(x=coef.values , y=coef.index);"
   ]
  },
  {
   "cell_type": "markdown",
   "id": "92ae42a0",
   "metadata": {},
   "source": [
    "---"
   ]
  },
  {
   "cell_type": "markdown",
   "id": "e2fe66f2",
   "metadata": {},
   "source": [
    "---"
   ]
  },
  {
   "cell_type": "markdown",
   "id": "958b7832",
   "metadata": {},
   "source": [
    "## Baseline Result\n",
    "- Target 분포 : 비대칭도가 심하게 왼쪽으로 기울어져 있기 때문에 Log Scaling을 적용한 데이터셋의 성능이 더 좋을 것이라고 판단.\n",
    "- Baseline Simple Regression\n",
    "    - One-Hot Encoding X\n",
    "        - MSE : 103723, 시간과 요일에 대한 Feature의 중요도가 높다는 것을 알 수 있다.\n",
    "    - One-Hot Encoding O\n",
    "        - MSE : 27045, 해석적으로 접근하기에 불가능하다는 것을 알 수 있다.\n",
    "            - Feature Importance를 봤을 때, 영향력 있는 특정 zip_code가 없다는 것을 알 수 있다. 그렇기에 전처리는 하되, 차원을 줄이는 방향으로 결정\n",
    "        \n",
    "### 모델링 진행방향\n",
    "\n",
    "```\n",
    "성능적인 측면에서 첫번째 모델보다 성능이 좋아졌지만 해석적인 측면에서는 좋지 않은 모델이라고 할 수 있다.\n",
    "\n",
    "해당 프로젝트에 관점에 대한 중요도 순은 모델성능 > 해석가능성 및 Inference 이기에, \n",
    "모델의 성능은 최대한 높이면서 부가적으로 Inference를 할 수 있도록 모델링하는 것으로 결정\n",
    "\n",
    "1. Encoder를 One-Hot Encoder에서 Label Encoder로 변경하여 범주형 전처리 진행 >> 차원을 줄이고, 결과 해석을 높이기 위해\n",
    "2. 다양한 Ensemble 모델링을 통해 가장 높은 성능을 가진 모델 선정\n",
    "3. 추가적인 Feature Engineering을 통해 모델의 성능 향상\n",
    "```"
   ]
  }
 ],
 "metadata": {
  "kernelspec": {
   "display_name": "Python 3",
   "language": "python",
   "name": "python3"
  },
  "language_info": {
   "codemirror_mode": {
    "name": "ipython",
    "version": 3
   },
   "file_extension": ".py",
   "mimetype": "text/x-python",
   "name": "python",
   "nbconvert_exporter": "python",
   "pygments_lexer": "ipython3",
   "version": "3.8.8"
  }
 },
 "nbformat": 4,
 "nbformat_minor": 5
}
