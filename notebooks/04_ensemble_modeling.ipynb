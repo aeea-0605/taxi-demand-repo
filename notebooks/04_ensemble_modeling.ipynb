{
 "cells": [
  {
   "cell_type": "markdown",
   "id": "b51a0484",
   "metadata": {},
   "source": [
    "## 다양한 모델링\n",
    "- Model : Ensemble\n",
    "- Log 및 결과 기록 : Sacred"
   ]
  },
  {
   "cell_type": "code",
   "execution_count": 1,
   "id": "85450b45",
   "metadata": {},
   "outputs": [],
   "source": [
    "import os\n",
    "import warnings\n",
    "from utils import info, split_train_and_test_period, evaluation, split_x_and_y, split_x_and_y_log, parsing_output\n",
    "\n",
    "from sklearn.preprocessing import LabelEncoder\n",
    "from sklearn.model_selection import RandomizedSearchCV\n",
    "\n",
    "from sacred import Experiment\n",
    "from sacred.observers import FileStorageObserver\n",
    "\n",
    "from xgboost import XGBRegressor\n",
    "\n",
    "\n",
    "plt.style.use('ggplot')\n",
    "warnings.filterwarnings('ignore')\n",
    "%config InlineBackend.figure_format = 'retina'"
   ]
  },
  {
   "cell_type": "code",
   "execution_count": 2,
   "id": "61b2315f",
   "metadata": {},
   "outputs": [],
   "source": [
    "# 실험을 위한 Experiment 객체 생성\n",
    "ex = Experiment('nyc-demand-prediction', interactive=True)\n",
    "\n",
    "experiment_dir = os.path.join(os.getcwd(), 'experiments')\n",
    "if not os.path.isdir(experiment_dir):\n",
    "    os.mkdir(experiment_dir)\n",
    "\n",
    "# 실험의 모든 정보를 저장하기 위해 FileStorageObserver 객체를 ex.observers에 저장\n",
    "ex.observers.append(FileStorageObserver.create(experiment_dir))"
   ]
  },
  {
   "cell_type": "markdown",
   "id": "a23599a5",
   "metadata": {},
   "source": [
    "### 데이터 로드 & 전처리"
   ]
  },
  {
   "cell_type": "code",
   "execution_count": 4,
   "id": "e0d5e2b5",
   "metadata": {},
   "outputs": [],
   "source": [
    "base_query = \"\"\"\n",
    "WITH base_data AS \n",
    "(\n",
    "    SELECT nyc_taxi.*, gis.* EXCEPT (zip_code_geom)\n",
    "    FROM (\n",
    "        SELECT *\n",
    "        FROM `bigquery-public-data.new_york_taxi_trips.tlc_yellow_trips_2015`\n",
    "        WHERE \n",
    "            (EXTRACT(MONTH FROM pickup_datetime) = 1)\n",
    "            and (pickup_latitude BETWEEN -90 AND 90)\n",
    "        ) AS nyc_taxi\n",
    "    JOIN (\n",
    "        SELECT zip_code, state_code, state_name, city, county, zip_code_geom\n",
    "        FROM `bigquery-public-data.geo_us_boundaries.zip_codes`\n",
    "        WHERE state_code='NY'\n",
    "        ) AS gis \n",
    "    ON ST_CONTAINS(zip_code_geom, st_geogpoint(pickup_longitude, pickup_latitude))\n",
    ")\n",
    "\n",
    "SELECT\n",
    "    zip_code,\n",
    "    pickup_hour,\n",
    "    EXTRACT(MONTH FROM pickup_hour) AS month,\n",
    "    EXTRACT(DAY FROM pickup_hour) AS day,\n",
    "    CAST(format_datetime('%u', pickup_hour) AS INT64) -1 AS weekday,\n",
    "    EXTRACT(HOUR FROM pickup_hour) AS hour,\n",
    "    CASE WHEN CAST(FORMAT_DATETIME('%u', pickup_hour) AS INT64) IN (6, 7) THEN 1 ELSE 0 END AS is_weekend,\n",
    "    cnt\n",
    "FROM (\n",
    "    SELECT \n",
    "        DATETIME_TRUNC(pickup_datetime, hour) AS pickup_hour,\n",
    "        count(*) AS cnt,\n",
    "        zip_code\n",
    "    FROM base_data\n",
    "    GROUP BY pickup_hour, zip_code\n",
    ")\n",
    "ORDER BY pickup_hour\n",
    "\"\"\"\n",
    "\n",
    "base_df = pd.read_gbq(query=base_query, dialect='standard', project_id=info['project'])"
   ]
  },
  {
   "cell_type": "markdown",
   "id": "153ebaeb",
   "metadata": {},
   "source": [
    "### XGBoost Regressor"
   ]
  },
  {
   "cell_type": "markdown",
   "id": "fa248eda",
   "metadata": {},
   "source": [
    "#### Label Encoding\n",
    "- baseline modeling 에서 zip_code를 One Hot Encoding 했을 때 Feature Importance가 높은 zip_code가 없었기 때문에 Label Encoding을 진행하여 차원을 줄이는 방향으로 결정"
   ]
  },
  {
   "cell_type": "code",
   "execution_count": 51,
   "id": "2e48506d",
   "metadata": {},
   "outputs": [],
   "source": [
    "le = LabelEncoder()\n",
    "\n",
    "base_df['zip_code_le'] = le.fit_transform(base_df['zip_code'])"
   ]
  },
  {
   "cell_type": "markdown",
   "id": "817d9ff4",
   "metadata": {},
   "source": [
    "#### Data Split"
   ]
  },
  {
   "cell_type": "code",
   "execution_count": 52,
   "id": "922ee574",
   "metadata": {},
   "outputs": [],
   "source": [
    "train_df, test_df = split_train_and_test_period(base_df, 7)"
   ]
  },
  {
   "cell_type": "code",
   "execution_count": 54,
   "id": "53b6e616",
   "metadata": {},
   "outputs": [],
   "source": [
    "x_train, x_test, y_train, y_test = split_x_and_y(train_df, test_df, y='cnt')"
   ]
  },
  {
   "cell_type": "markdown",
   "id": "81b164f0",
   "metadata": {},
   "source": [
    "#### 모델링_1\n",
    "- log scaling X"
   ]
  },
  {
   "cell_type": "code",
   "execution_count": 7,
   "id": "3c520fcd",
   "metadata": {},
   "outputs": [],
   "source": [
    "from sklearn.model_selection import RandomizedSearchCV"
   ]
  },
  {
   "cell_type": "code",
   "execution_count": 4,
   "id": "8754f86a",
   "metadata": {},
   "outputs": [
    {
     "ename": "NameError",
     "evalue": "name 'ex' is not defined",
     "output_type": "error",
     "traceback": [
      "\u001b[0;31m---------------------------------------------------------------------------\u001b[0m",
      "\u001b[0;31mNameError\u001b[0m                                 Traceback (most recent call last)",
      "\u001b[0;32m<ipython-input-4-cca23bbfb654>\u001b[0m in \u001b[0;36m<module>\u001b[0;34m\u001b[0m\n\u001b[0;32m----> 1\u001b[0;31m \u001b[0;34m@\u001b[0m\u001b[0mex\u001b[0m\u001b[0;34m.\u001b[0m\u001b[0mconfig\u001b[0m\u001b[0;34m\u001b[0m\u001b[0;34m\u001b[0m\u001b[0m\n\u001b[0m\u001b[1;32m      2\u001b[0m \u001b[0;32mdef\u001b[0m \u001b[0mconfig\u001b[0m\u001b[0;34m(\u001b[0m\u001b[0;34m)\u001b[0m\u001b[0;34m:\u001b[0m\u001b[0;34m\u001b[0m\u001b[0;34m\u001b[0m\u001b[0m\n\u001b[1;32m      3\u001b[0m     \u001b[0mn_estimators\u001b[0m \u001b[0;34m=\u001b[0m \u001b[0mrange\u001b[0m\u001b[0;34m(\u001b[0m\u001b[0;36m100\u001b[0m\u001b[0;34m,\u001b[0m \u001b[0;36m900\u001b[0m\u001b[0;34m,\u001b[0m \u001b[0;36m100\u001b[0m\u001b[0;34m)\u001b[0m\u001b[0;34m\u001b[0m\u001b[0;34m\u001b[0m\u001b[0m\n\u001b[1;32m      4\u001b[0m     \u001b[0mmax_depth\u001b[0m \u001b[0;34m=\u001b[0m \u001b[0;34m[\u001b[0m\u001b[0;36m3\u001b[0m\u001b[0;34m,\u001b[0m \u001b[0;36m5\u001b[0m\u001b[0;34m,\u001b[0m \u001b[0;36m7\u001b[0m\u001b[0;34m]\u001b[0m\u001b[0;34m\u001b[0m\u001b[0;34m\u001b[0m\u001b[0m\n\u001b[1;32m      5\u001b[0m     \u001b[0mlearning_rate\u001b[0m \u001b[0;34m=\u001b[0m \u001b[0;34m[\u001b[0m\u001b[0;36m0.01\u001b[0m\u001b[0;34m,\u001b[0m \u001b[0;36m0.1\u001b[0m\u001b[0;34m]\u001b[0m\u001b[0;34m\u001b[0m\u001b[0;34m\u001b[0m\u001b[0m\n",
      "\u001b[0;31mNameError\u001b[0m: name 'ex' is not defined"
     ]
    }
   ],
   "source": [
    "@ex.config\n",
    "def config():\n",
    "    n_estimators = range(100, 900, 100)\n",
    "    max_depth = [3, 5, 7]\n",
    "    learning_rate = [0.01, 0.1]\n",
    "    colsample_bytree = [0.5, 0.75, 1.0]\n",
    "    min_child_weight = [1.0, 3.0]\n",
    "    \n",
    "    \n",
    "@ex.capture\n",
    "def get_grid_model(n_estimators, max_depth, learning_rate, colsample_bytree, min_child_weight):\n",
    "    params = [{\n",
    "        'n_estimators': n_estimators,\n",
    "        'max_depth': max_depth,\n",
    "        'learning_rate': learning_rate,\n",
    "        'colsample_bytree': colsample_bytree,\n",
    "        'min_child_weight': min_child_weight\n",
    "        }]\n",
    "    rnd_search = RandomizedSearchCV(XGBRegressor(), param_distributions=params, n_iter=100, cv=3,\n",
    "                                    scoring='neg_mean_squared_error', verbose=1,\n",
    "                                    n_jobs=os.cpu_count()-2, random_state=13)\n",
    "    \n",
    "    return rnd_search\n",
    "\n",
    "\n",
    "@ex.main\n",
    "def run(_log, _run):\n",
    "    global grid_xgb_reg, y_pred\n",
    "    \n",
    "    grid_xgb_reg = get_grid_model()\n",
    "    grid_xgb_reg.fit(x_train, y_train)\n",
    "    \n",
    "    y_pred = grid_xgb_reg.best_estimator_.predict(x_test)\n",
    "    \n",
    "    score = evaluation(y_test, y_pred)\n",
    "    \n",
    "    _run.log_scalar('model_name', grid_xgb_reg.best_estimator_.__class__.__name__)\n",
    "    _run.log_scalar('model_params', grid_xgb_reg.best_params_)\n",
    "    _run.log_scalar('score', score)\n",
    "    \n",
    "    return score.to_dict()"
   ]
  },
  {
   "cell_type": "code",
   "execution_count": 22,
   "id": "f6de5eb5",
   "metadata": {},
   "outputs": [],
   "source": [
    "n_estimators = range(100, 900, 100)\n",
    "max_depth = [3, 5, 7]\n",
    "learning_rate = [0.01, 0.1]\n",
    "colsample_bytree = [0.5, 0.75, 1.0]\n",
    "min_child_weight = [1.0, 3.0]\n",
    "\n",
    "params = [{\n",
    "        'n_estimators': n_estimators,\n",
    "        'max_depth': max_depth,\n",
    "        'learning_rate': learning_rate,\n",
    "        'colsample_bytree': colsample_bytree,\n",
    "        'min_child_weight': min_child_weight\n",
    "        }]\n",
    "\n",
    "rnd_search = RandomizedSearchCV(XGBRegressor(), param_distributions=params, n_iter=100, cv=3,\n",
    "                                scoring='neg_mean_squared_error', verbose=1,\n",
    "                                n_jobs=os.cpu_count()-2, random_state=13)"
   ]
  },
  {
   "cell_type": "code",
   "execution_count": 33,
   "id": "0801736e",
   "metadata": {},
   "outputs": [
    {
     "name": "stderr",
     "output_type": "stream",
     "text": [
      "INFO - nyc-demand-prediction - Running command 'run'\n",
      "INFO - nyc-demand-prediction - Started run with ID \"1\"\n"
     ]
    },
    {
     "name": "stdout",
     "output_type": "stream",
     "text": [
      "Fitting 3 folds for each of 100 candidates, totalling 300 fits\n"
     ]
    },
    {
     "name": "stderr",
     "output_type": "stream",
     "text": [
      "INFO - nyc-demand-prediction - Result: {'mape': {'score': 240.04097885180414}, 'mae': {'score': 37.741028877026224}, 'mse': {'score': 12603.220104338488}}\n",
      "INFO - nyc-demand-prediction - Completed after 0:04:17\n"
     ]
    }
   ],
   "source": [
    "experiment_result = ex.run()"
   ]
  },
  {
   "cell_type": "code",
   "execution_count": 39,
   "id": "f1278113",
   "metadata": {},
   "outputs": [
    {
     "data": {
      "text/html": [
       "<div>\n",
       "<style scoped>\n",
       "    .dataframe tbody tr th:only-of-type {\n",
       "        vertical-align: middle;\n",
       "    }\n",
       "\n",
       "    .dataframe tbody tr th {\n",
       "        vertical-align: top;\n",
       "    }\n",
       "\n",
       "    .dataframe thead th {\n",
       "        text-align: right;\n",
       "    }\n",
       "</style>\n",
       "<table border=\"1\" class=\"dataframe\">\n",
       "  <thead>\n",
       "    <tr style=\"text-align: right;\">\n",
       "      <th></th>\n",
       "      <th>model_name</th>\n",
       "      <th>experiment_num</th>\n",
       "      <th>config</th>\n",
       "      <th>mae</th>\n",
       "      <th>mape</th>\n",
       "      <th>mse</th>\n",
       "    </tr>\n",
       "  </thead>\n",
       "  <tbody>\n",
       "    <tr>\n",
       "      <th>score</th>\n",
       "      <td>XGBRegressor</td>\n",
       "      <td>1</td>\n",
       "      <td>[{\"colsample_bytree\": 1.0, \"learning_rate\": 0....</td>\n",
       "      <td>37.74</td>\n",
       "      <td>240.04</td>\n",
       "      <td>12603.22</td>\n",
       "    </tr>\n",
       "  </tbody>\n",
       "</table>\n",
       "</div>"
      ],
      "text/plain": [
       "         model_name  experiment_num  \\\n",
       "score  XGBRegressor               1   \n",
       "\n",
       "                                                  config    mae    mape  \\\n",
       "score  [{\"colsample_bytree\": 1.0, \"learning_rate\": 0....  37.74  240.04   \n",
       "\n",
       "            mse  \n",
       "score  12603.22  "
      ]
     },
     "execution_count": 39,
     "metadata": {},
     "output_type": "execute_result"
    }
   ],
   "source": [
    "parsing_output(1)"
   ]
  },
  {
   "cell_type": "code",
   "execution_count": null,
   "id": "964fb5ef",
   "metadata": {},
   "outputs": [],
   "source": [
    "x_train"
   ]
  },
  {
   "cell_type": "code",
   "execution_count": 55,
   "id": "7066153d",
   "metadata": {},
   "outputs": [
    {
     "data": {
      "image/png": "[encoded data removed]",
      "text/plain": [
       "<Figure size 432x288 with 1 Axes>"
      ]
     },
     "metadata": {
      "image/png": {
       "height": 248,
       "width": 414
      }
     },
     "output_type": "display_data"
    }
   ],
   "source": [
    "feat_importances = pd.Series(grid_xgb_reg.best_estimator_.feature_importances_, index=x_train.columns)\n",
    "feat_importances.nlargest(15).plot(kind='barh');"
   ]
  },
  {
   "cell_type": "markdown",
   "id": "93a23fb9",
   "metadata": {},
   "source": [
    "#### 모델링_2\n",
    "- log scaling 적용"
   ]
  },
  {
   "cell_type": "code",
   "execution_count": 3,
   "id": "270a1110",
   "metadata": {},
   "outputs": [],
   "source": [
    "base_df['log_cnt'] = np.log10(base_df['cnt'])"
   ]
  },
  {
   "cell_type": "code",
   "execution_count": 4,
   "id": "2a3056a4",
   "metadata": {},
   "outputs": [],
   "source": [
    "train_df, test_df = split_train_and_test_period(base_df, 7)"
   ]
  },
  {
   "cell_type": "code",
   "execution_count": 5,
   "id": "1865ee3c",
   "metadata": {},
   "outputs": [],
   "source": [
    "x_train, x_test, y_train_log, y_test_raw = split_x_and_y_log(train_df, test_df, y='log_cnt')"
   ]
  },
  {
   "cell_type": "code",
   "execution_count": 6,
   "id": "b298e853",
   "metadata": {},
   "outputs": [
    {
     "data": {
      "text/html": [
       "<div>\n",
       "<style scoped>\n",
       "    .dataframe tbody tr th:only-of-type {\n",
       "        vertical-align: middle;\n",
       "    }\n",
       "\n",
       "    .dataframe tbody tr th {\n",
       "        vertical-align: top;\n",
       "    }\n",
       "\n",
       "    .dataframe thead th {\n",
       "        text-align: right;\n",
       "    }\n",
       "</style>\n",
       "<table border=\"1\" class=\"dataframe\">\n",
       "  <thead>\n",
       "    <tr style=\"text-align: right;\">\n",
       "      <th></th>\n",
       "      <th>month</th>\n",
       "      <th>day</th>\n",
       "      <th>weekday</th>\n",
       "      <th>hour</th>\n",
       "      <th>is_weekend</th>\n",
       "    </tr>\n",
       "  </thead>\n",
       "  <tbody>\n",
       "    <tr>\n",
       "      <th>0</th>\n",
       "      <td>1</td>\n",
       "      <td>1</td>\n",
       "      <td>3</td>\n",
       "      <td>0</td>\n",
       "      <td>0</td>\n",
       "    </tr>\n",
       "    <tr>\n",
       "      <th>1</th>\n",
       "      <td>1</td>\n",
       "      <td>1</td>\n",
       "      <td>3</td>\n",
       "      <td>0</td>\n",
       "      <td>0</td>\n",
       "    </tr>\n",
       "    <tr>\n",
       "      <th>2</th>\n",
       "      <td>1</td>\n",
       "      <td>1</td>\n",
       "      <td>3</td>\n",
       "      <td>0</td>\n",
       "      <td>0</td>\n",
       "    </tr>\n",
       "  </tbody>\n",
       "</table>\n",
       "</div>"
      ],
      "text/plain": [
       "   month  day  weekday  hour  is_weekend\n",
       "0      1    1        3     0           0\n",
       "1      1    1        3     0           0\n",
       "2      1    1        3     0           0"
      ]
     },
     "execution_count": 6,
     "metadata": {},
     "output_type": "execute_result"
    }
   ],
   "source": [
    "x_train.head(3)"
   ]
  },
  {
   "cell_type": "code",
   "execution_count": 7,
   "id": "14fbb28a",
   "metadata": {},
   "outputs": [
    {
     "data": {
      "text/plain": [
       "65118     4\n",
       "65119     3\n",
       "65120    34\n",
       "Name: cnt, dtype: int64"
      ]
     },
     "execution_count": 7,
     "metadata": {},
     "output_type": "execute_result"
    }
   ],
   "source": [
    "y_test_raw.head(3)"
   ]
  },
  {
   "cell_type": "code",
   "execution_count": 9,
   "id": "b4c9f4fd",
   "metadata": {},
   "outputs": [
    {
     "data": {
      "text/plain": [
       "0    1.146128\n",
       "1    2.923244\n",
       "2    2.889302\n",
       "Name: log_cnt, dtype: float64"
      ]
     },
     "execution_count": 9,
     "metadata": {},
     "output_type": "execute_result"
    }
   ],
   "source": [
    "y_train_log.head(3)"
   ]
  },
  {
   "cell_type": "code",
   "execution_count": 10,
   "id": "a532398f",
   "metadata": {},
   "outputs": [],
   "source": [
    "ex = Experiment('nyc-demand-prediction', interactive=True)\n",
    "\n",
    "experiment_dir = os.path.join(os.getcwd(), 'experiments')\n",
    "if not os.path.isdir(experiment_dir):\n",
    "    os.mkdir(experiment_dir)\n",
    "\n",
    "ex.observers.append(FileStorageObserver.create(experiment_dir))"
   ]
  },
  {
   "cell_type": "code",
   "execution_count": 11,
   "id": "7d48a07d",
   "metadata": {},
   "outputs": [],
   "source": [
    "@ex.config\n",
    "def config():\n",
    "    n_estimators = range(100, 900, 100)\n",
    "    max_depth = [3, 5, 7]\n",
    "    learning_rate = [0.01, 0.1]\n",
    "    colsample_bytree = [0.5, 0.75, 1.0]\n",
    "    min_child_weight = [1.0, 3.0]\n",
    "    \n",
    "    \n",
    "@ex.capture\n",
    "def get_grid_model(n_estimators, max_depth, learning_rate, colsample_bytree, min_child_weight):\n",
    "    params = [{\n",
    "        'n_estimators': n_estimators,\n",
    "        'max_depth': max_depth,\n",
    "        'learning_rate': learning_rate,\n",
    "        'colsample_bytree': colsample_bytree,\n",
    "        'min_child_weight': min_child_weight\n",
    "        }]\n",
    "    rnd_search = RandomizedSearchCV(XGBRegressor(), param_distributions=params, n_iter=100, cv=3,\n",
    "                                    scoring='neg_mean_squared_error', verbose=1,\n",
    "                                    n_jobs=os.cpu_count()-2, random_state=13)\n",
    "    \n",
    "    return rnd_search\n",
    "\n",
    "@ex.main\n",
    "def run(_log, _run):\n",
    "    global grid_xgb_reg, y_pred\n",
    "    \n",
    "    grid_xgb_reg = get_grid_model()\n",
    "    grid_xgb_reg.fit(x_train, y_train_log)\n",
    "    \n",
    "    y_pred = grid_xgb_reg.best_estimator_.predict(x_test)\n",
    "    y_pred_reverse = 10**y_pred\n",
    "    \n",
    "    score = evaluation(y_test_raw, y_pred_reverse)\n",
    "    \n",
    "    _run.log_scalar('model_name', grid_xgb_reg.best_estimator_.__class__.__name__)\n",
    "    _run.log_scalar('model_params', grid_xgb_reg.best_params_)\n",
    "    _run.log_scalar('score', score)\n",
    "    \n",
    "    return score.to_dict()"
   ]
  },
  {
   "cell_type": "code",
   "execution_count": 12,
   "id": "0f3ff92c",
   "metadata": {},
   "outputs": [
    {
     "name": "stderr",
     "output_type": "stream",
     "text": [
      "INFO - nyc-demand-prediction - Running command 'run'\n",
      "INFO - nyc-demand-prediction - Started run with ID \"2\"\n"
     ]
    },
    {
     "name": "stdout",
     "output_type": "stream",
     "text": [
      "Fitting 3 folds for each of 100 candidates, totalling 300 fits\n"
     ]
    },
    {
     "name": "stderr",
     "output_type": "stream",
     "text": [
      "INFO - nyc-demand-prediction - Result: {'mape': {'score': 446.72255350854346}, 'mae': {'score': 131.49225080573888}, 'mse': {'score': 103649.73129469037}}\n",
      "INFO - nyc-demand-prediction - Completed after 0:03:09\n"
     ]
    }
   ],
   "source": [
    "experiment_result_2 = ex.run()"
   ]
  },
  {
   "cell_type": "code",
   "execution_count": 2,
   "id": "17b92047",
   "metadata": {},
   "outputs": [
    {
     "data": {
      "text/html": [
       "<div>\n",
       "<style scoped>\n",
       "    .dataframe tbody tr th:only-of-type {\n",
       "        vertical-align: middle;\n",
       "    }\n",
       "\n",
       "    .dataframe tbody tr th {\n",
       "        vertical-align: top;\n",
       "    }\n",
       "\n",
       "    .dataframe thead th {\n",
       "        text-align: right;\n",
       "    }\n",
       "</style>\n",
       "<table border=\"1\" class=\"dataframe\">\n",
       "  <thead>\n",
       "    <tr style=\"text-align: right;\">\n",
       "      <th></th>\n",
       "      <th>model_name</th>\n",
       "      <th>experiment_num</th>\n",
       "      <th>config</th>\n",
       "      <th>mae</th>\n",
       "      <th>mape</th>\n",
       "      <th>mse</th>\n",
       "    </tr>\n",
       "  </thead>\n",
       "  <tbody>\n",
       "    <tr>\n",
       "      <th>score</th>\n",
       "      <td>XGBRegressor</td>\n",
       "      <td>1</td>\n",
       "      <td>[{\"colsample_bytree\": 1.0, \"learning_rate\": 0....</td>\n",
       "      <td>37.74</td>\n",
       "      <td>240.04</td>\n",
       "      <td>12603.22</td>\n",
       "    </tr>\n",
       "    <tr>\n",
       "      <th>score</th>\n",
       "      <td>XGBRegressor</td>\n",
       "      <td>2</td>\n",
       "      <td>[{\"colsample_bytree\": 0.75, \"learning_rate\": 0...</td>\n",
       "      <td>131.49</td>\n",
       "      <td>446.72</td>\n",
       "      <td>103649.73</td>\n",
       "    </tr>\n",
       "  </tbody>\n",
       "</table>\n",
       "</div>"
      ],
      "text/plain": [
       "         model_name  experiment_num  \\\n",
       "score  XGBRegressor               1   \n",
       "score  XGBRegressor               2   \n",
       "\n",
       "                                                  config     mae    mape  \\\n",
       "score  [{\"colsample_bytree\": 1.0, \"learning_rate\": 0....   37.74  240.04   \n",
       "score  [{\"colsample_bytree\": 0.75, \"learning_rate\": 0...  131.49  446.72   \n",
       "\n",
       "             mse  \n",
       "score   12603.22  \n",
       "score  103649.73  "
      ]
     },
     "execution_count": 2,
     "metadata": {},
     "output_type": "execute_result"
    }
   ],
   "source": [
    "pd.concat([parsing_output(1), parsing_output(2)])"
   ]
  },
  {
   "cell_type": "markdown",
   "id": "2ccadc63",
   "metadata": {},
   "source": [
    "- Log Scaling을 한 모델의 성능이 안한 모델보다 성능이 낮기에 Log Scaling은 적용하지 않는다."
   ]
  },
  {
   "cell_type": "markdown",
   "id": "505139ce",
   "metadata": {},
   "source": [
    "### Lightgbm Regressor"
   ]
  },
  {
   "cell_type": "code",
   "execution_count": 5,
   "id": "53c9dcee",
   "metadata": {},
   "outputs": [],
   "source": [
    "le = LabelEncoder()\n",
    "\n",
    "base_df['zip_code_le'] = le.fit_transform(base_df['zip_code'])"
   ]
  },
  {
   "cell_type": "code",
   "execution_count": 6,
   "id": "cebb4aa6",
   "metadata": {},
   "outputs": [],
   "source": [
    "train_df, test_df = split_train_and_test_period(base_df, 7)"
   ]
  },
  {
   "cell_type": "code",
   "execution_count": 7,
   "id": "b0b746fe",
   "metadata": {},
   "outputs": [],
   "source": [
    "x_train, x_test, y_train, y_test = split_x_and_y(train_df, test_df, y='cnt')"
   ]
  },
  {
   "cell_type": "code",
   "execution_count": 8,
   "id": "eef88ef2",
   "metadata": {},
   "outputs": [
    {
     "data": {
      "text/plain": [
       "65118"
      ]
     },
     "execution_count": 8,
     "metadata": {},
     "output_type": "execute_result"
    }
   ],
   "source": [
    "len(x_train)"
   ]
  },
  {
   "cell_type": "code",
   "execution_count": 9,
   "id": "db702581",
   "metadata": {},
   "outputs": [],
   "source": [
    "from lightgbm import LGBMClassifier"
   ]
  },
  {
   "cell_type": "code",
   "execution_count": 10,
   "id": "d98205a6",
   "metadata": {},
   "outputs": [],
   "source": [
    "ex = Experiment('nyc-demand-prediction', interactive=True)\n",
    "\n",
    "experiment_dir = os.path.join(os.getcwd(), 'experiments')\n",
    "if not os.path.isdir(experiment_dir):\n",
    "    os.mkdir(experiment_dir)\n",
    "\n",
    "ex.observers.append(FileStorageObserver.create(experiment_dir))"
   ]
  },
  {
   "cell_type": "code",
   "execution_count": 11,
   "id": "35d62597",
   "metadata": {},
   "outputs": [],
   "source": [
    "@ex.config\n",
    "def config():\n",
    "    n_estimators = range(100, 900, 100)\n",
    "    max_depth = [3, 5, 7]\n",
    "    learning_rate = [0.01, 0.1]\n",
    "    num_leaves = [31, 50, 70]\n",
    "    min_data_in_leaf = [20] + [num for num in range(100, 900, 200)]\n",
    "    \n",
    "    \n",
    "@ex.capture\n",
    "def get_grid_model(n_estimators, max_depth, learning_rate, num_leaves, min_data_in_leaf):\n",
    "    params = [{\n",
    "        'n_estimators': n_estimators,\n",
    "        'max_depth': max_depth,\n",
    "        'learning_rate': learning_rate,\n",
    "        'num_leaves': num_leaves,\n",
    "        'min_data_in_leaf': min_data_in_leaf\n",
    "        }]\n",
    "    rnd_search = RandomizedSearchCV(LGBMClassifier(), param_distributions=params, n_iter=100, cv=3,\n",
    "                                    scoring='neg_mean_squared_error', verbose=2,\n",
    "                                    n_jobs=os.cpu_count()-2, random_state=13)\n",
    "    \n",
    "    return rnd_search\n",
    "\n",
    "\n",
    "@ex.main\n",
    "def run(_log, _run):\n",
    "    global grid_lgbm_reg, y_pred\n",
    "    \n",
    "    grid_lgbm_reg = get_grid_model()\n",
    "    grid_lgbm_reg.fit(x_train, y_train)\n",
    "    \n",
    "    y_pred = grid_lgbm_reg.best_estimator_.predict(x_test)\n",
    "    \n",
    "    score = evaluation(y_test, y_pred)\n",
    "    \n",
    "    _run.log_scalar('model_name', grid_lgbm_reg.best_estimator_.__class__.__name__)\n",
    "    _run.log_scalar('model_params', grid_lgbm_reg.best_params_)\n",
    "    _run.log_scalar('score', score)\n",
    "    \n",
    "    return score.to_dict()"
   ]
  },
  {
   "cell_type": "code",
   "execution_count": null,
   "id": "f32ae688",
   "metadata": {},
   "outputs": [
    {
     "name": "stderr",
     "output_type": "stream",
     "text": [
      "INFO - nyc-demand-prediction - Running command 'run'\n",
      "INFO - nyc-demand-prediction - Started run with ID \"3\"\n"
     ]
    },
    {
     "name": "stdout",
     "output_type": "stream",
     "text": [
      "Fitting 3 folds for each of 100 candidates, totalling 300 fits\n"
     ]
    }
   ],
   "source": [
    "%%time\n",
    "experiment_result_3 = ex.run()"
   ]
  },
  {
   "cell_type": "code",
   "execution_count": null,
   "id": "3c2e8931",
   "metadata": {},
   "outputs": [],
   "source": [
    "pd.concat([parsing_output(1), parsing_output(3)])"
   ]
  },
  {
   "cell_type": "code",
   "execution_count": null,
   "id": "71d8aef4",
   "metadata": {},
   "outputs": [],
   "source": [
    "feat_importances = pd.Series(grid_lgbm_reg.best_estimator_.feature_importances_, index=x_train.columns)\n",
    "feat_importances.nlargest(15).plot(kind='barh');"
   ]
  },
  {
   "cell_type": "markdown",
   "id": "69c8b4e8",
   "metadata": {},
   "source": [
    "### RandomForest Regressor"
   ]
  },
  {
   "cell_type": "code",
   "execution_count": null,
   "id": "de3f9e24",
   "metadata": {},
   "outputs": [],
   "source": [
    "from sklearn.ensemble import RandomForestRegressor"
   ]
  },
  {
   "cell_type": "code",
   "execution_count": null,
   "id": "93efd1d1",
   "metadata": {},
   "outputs": [],
   "source": [
    "ex = Experiment('nyc-demand-prediction', interactive=True)\n",
    "\n",
    "experiment_dir = os.path.join(os.getcwd(), 'experiments')\n",
    "if not os.path.isdir(experiment_dir):\n",
    "    os.mkdir(experiment_dir)\n",
    "\n",
    "ex.observers.append(FileStorageObserver.create(experiment_dir))"
   ]
  },
  {
   "cell_type": "code",
   "execution_count": null,
   "id": "8a354503",
   "metadata": {},
   "outputs": [],
   "source": [
    "@ex.config\n",
    "def config():\n",
    "    n_estimators = range(100, 900, 100)\n",
    "    max_depth = [-1, 3, 7]\n",
    "    learning_rate = [0.01, 0.1]\n",
    "    num_leaves = [31, 50, 70]\n",
    "    min_data_in_leaf = [20] + [num for num in range(100, 900, 200)]\n",
    "    \n",
    "    \n",
    "@ex.capture\n",
    "def get_grid_model(n_estimators, max_depth, learning_rate, num_leaves, min_data_in_leaf):\n",
    "    params = [{\n",
    "        'n_estimators': n_estimators,\n",
    "        'max_depth': max_depth,\n",
    "        'learning_rate': learning_rate,\n",
    "        'num_leaves': num_leaves,\n",
    "        'min_data_in_leaf': min_data_in_leaf\n",
    "        }]\n",
    "    rnd_search = RandomizedSearchCV(LGBMClassifier(), param_distributions=params, n_iter=100, cv=3,\n",
    "                                    scoring='neg_mean_squared_error', verbose=1,\n",
    "                                    n_jobs=os.cpu_count()-2, random_state=13)\n",
    "    \n",
    "    return rnd_search\n",
    "\n",
    "\n",
    "@ex.main\n",
    "def run(_log, _run):\n",
    "    global grid_rf_reg, y_pred\n",
    "    \n",
    "    grid_rf_reg = get_grid_model()\n",
    "    grid_rf_reg.fit(x_train, y_train)\n",
    "    \n",
    "    y_pred = grid_rf_reg.best_estimator_.predict(x_test)\n",
    "    \n",
    "    score = evaluation(y_test, y_pred)\n",
    "    \n",
    "    _run.log_scalar('model_name', grid_rf_reg.best_estimator_.__class__.__name__)\n",
    "    _run.log_scalar('model_params', grid_rf_reg.best_params_)\n",
    "    _run.log_scalar('score', score)\n",
    "    \n",
    "    return score.to_dict()"
   ]
  }
 ],
 "metadata": {
  "kernelspec": {
   "display_name": "Python 3",
   "language": "python",
   "name": "python3"
  },
  "language_info": {
   "codemirror_mode": {
    "name": "ipython",
    "version": 3
   },
   "file_extension": ".py",
   "mimetype": "text/x-python",
   "name": "python",
   "nbconvert_exporter": "python",
   "pygments_lexer": "ipython3",
   "version": "3.8.8"
  }
 },
 "nbformat": 4,
 "nbformat_minor": 5
}
