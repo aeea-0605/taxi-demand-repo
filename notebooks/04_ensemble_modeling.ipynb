{
 "cells": [
  {
   "cell_type": "markdown",
   "id": "b51a0484",
   "metadata": {},
   "source": [
    "## 다양한 모델링\n",
    "- Model : Ensemble\n",
    "- Log 및 결과 기록 : Sacred"
   ]
  },
  {
   "cell_type": "code",
   "execution_count": 1,
   "id": "85450b45",
   "metadata": {},
   "outputs": [],
   "source": [
    "import os\n",
    "import json\n",
    "import warnings\n",
    "from utils import info, split_train_and_test_period, evaluation, split_x_and_y, split_x_and_y_log, parsing_output\n",
    "\n",
    "from sklearn.preprocessing import LabelEncoder\n",
    "from sklearn.model_selection import RandomizedSearchCV\n",
    "\n",
    "from sacred import Experiment\n",
    "from sacred.observers import FileStorageObserver\n",
    "\n",
    "from xgboost import XGBRegressor\n",
    "from lightgbm import LGBMRegressor\n",
    "from sklearn.ensemble import RandomForestRegressor\n",
    "\n",
    "\n",
    "plt.style.use('ggplot')\n",
    "warnings.filterwarnings('ignore')\n",
    "%config InlineBackend.figure_format = 'retina'"
   ]
  },
  {
   "cell_type": "code",
   "execution_count": 2,
   "id": "f5711bf5",
   "metadata": {},
   "outputs": [],
   "source": [
    "test_model = XGBRegressor(n_estimators=10)"
   ]
  },
  {
   "cell_type": "code",
   "execution_count": 7,
   "id": "21a06819",
   "metadata": {},
   "outputs": [
    {
     "data": {
      "text/plain": [
       "'XGBRegressor'"
      ]
     },
     "execution_count": 7,
     "metadata": {},
     "output_type": "execute_result"
    }
   ],
   "source": [
    "test_model.__class__.__name__"
   ]
  },
  {
   "cell_type": "code",
   "execution_count": 4,
   "id": "022ae2c1",
   "metadata": {},
   "outputs": [
    {
     "data": {
      "text/plain": [
       "['__class__',\n",
       " '__delattr__',\n",
       " '__dict__',\n",
       " '__dir__',\n",
       " '__doc__',\n",
       " '__eq__',\n",
       " '__format__',\n",
       " '__ge__',\n",
       " '__getattribute__',\n",
       " '__getstate__',\n",
       " '__gt__',\n",
       " '__hash__',\n",
       " '__init__',\n",
       " '__init_subclass__',\n",
       " '__le__',\n",
       " '__lt__',\n",
       " '__module__',\n",
       " '__ne__',\n",
       " '__new__',\n",
       " '__reduce__',\n",
       " '__reduce_ex__',\n",
       " '__repr__',\n",
       " '__setattr__',\n",
       " '__setstate__',\n",
       " '__sizeof__',\n",
       " '__str__',\n",
       " '__subclasshook__',\n",
       " '__weakref__',\n",
       " '_can_use_inplace_predict',\n",
       " '_check_n_features',\n",
       " '_configure_fit',\n",
       " '_early_stopping_attr',\n",
       " '_estimator_type',\n",
       " '_get_iteration_range',\n",
       " '_get_param_names',\n",
       " '_get_tags',\n",
       " '_get_type',\n",
       " '_more_tags',\n",
       " '_repr_html_',\n",
       " '_repr_html_inner',\n",
       " '_repr_mimebundle_',\n",
       " '_set_evaluation_result',\n",
       " '_validate_data',\n",
       " 'apply',\n",
       " 'base_score',\n",
       " 'best_iteration',\n",
       " 'best_ntree_limit',\n",
       " 'best_score',\n",
       " 'booster',\n",
       " 'coef_',\n",
       " 'colsample_bylevel',\n",
       " 'colsample_bynode',\n",
       " 'colsample_bytree',\n",
       " 'evals_result',\n",
       " 'feature_importances_',\n",
       " 'fit',\n",
       " 'gamma',\n",
       " 'get_booster',\n",
       " 'get_num_boosting_rounds',\n",
       " 'get_params',\n",
       " 'get_xgb_params',\n",
       " 'gpu_id',\n",
       " 'importance_type',\n",
       " 'interaction_constraints',\n",
       " 'intercept_',\n",
       " 'kwargs',\n",
       " 'learning_rate',\n",
       " 'load_model',\n",
       " 'max_delta_step',\n",
       " 'max_depth',\n",
       " 'min_child_weight',\n",
       " 'missing',\n",
       " 'monotone_constraints',\n",
       " 'n_estimators',\n",
       " 'n_features_in_',\n",
       " 'n_jobs',\n",
       " 'num_parallel_tree',\n",
       " 'objective',\n",
       " 'predict',\n",
       " 'random_state',\n",
       " 'reg_alpha',\n",
       " 'reg_lambda',\n",
       " 'save_model',\n",
       " 'scale_pos_weight',\n",
       " 'score',\n",
       " 'set_params',\n",
       " 'subsample',\n",
       " 'tree_method',\n",
       " 'validate_parameters',\n",
       " 'verbosity']"
      ]
     },
     "execution_count": 4,
     "metadata": {},
     "output_type": "execute_result"
    }
   ],
   "source": [
    "dir(test_model)"
   ]
  },
  {
   "cell_type": "code",
   "execution_count": 2,
   "id": "e1309782",
   "metadata": {},
   "outputs": [
    {
     "data": {
      "text/plain": [
       "'/Users/aeea/Desktop/git/project/taxi-demand-repo/airflow'"
      ]
     },
     "execution_count": 2,
     "metadata": {},
     "output_type": "execute_result"
    }
   ],
   "source": [
    "SAVE_PATH = os.path.join(os.path.split(os.getcwd())[0], 'airflow')\n",
    "SAVE_PATH"
   ]
  },
  {
   "cell_type": "code",
   "execution_count": 33,
   "id": "2313c112",
   "metadata": {},
   "outputs": [],
   "source": [
    "def make_experiment(name, save_path, interactive=True):\n",
    "    # 실험을 위한 Experiment 객체 생성\n",
    "    ex = Experiment(name, interactive=interactive)\n",
    "\n",
    "    experiment_dir = os.path.join(save_path, 'experiments')\n",
    "    if not os.path.isdir(experiment_dir):\n",
    "        os.mkdir(experiment_dir)\n",
    "\n",
    "    # 실험의 모든 정보를 저장하기 위해 FileStorageObserver 객체를 ex.observers에 저장\n",
    "    ex.observers.append(FileStorageObserver.create(experiment_dir))\n",
    "    print(\"Make Experiment Object.\")\n",
    "    \n",
    "    return ex"
   ]
  },
  {
   "cell_type": "markdown",
   "id": "a23599a5",
   "metadata": {},
   "source": [
    "### 데이터 로드 & 전처리"
   ]
  },
  {
   "cell_type": "code",
   "execution_count": 4,
   "id": "e0d5e2b5",
   "metadata": {},
   "outputs": [],
   "source": [
    "base_query = \"\"\"\n",
    "WITH base_data AS (\n",
    "    SELECT nyc_taxi.*, gis.* EXCEPT (zip_code_geom)\n",
    "    FROM (\n",
    "        SELECT *\n",
    "        FROM `bigquery-public-data.new_york_taxi_trips.tlc_yellow_trips_2015`\n",
    "        WHERE \n",
    "            (EXTRACT(MONTH FROM pickup_datetime) = 1)\n",
    "            and (pickup_latitude BETWEEN -90 AND 90)\n",
    "        ) AS nyc_taxi\n",
    "    JOIN (\n",
    "        SELECT zip_code, state_code, state_name, city, county, zip_code_geom\n",
    "        FROM `bigquery-public-data.geo_us_boundaries.zip_codes`\n",
    "        WHERE state_code='NY'\n",
    "        ) AS gis \n",
    "    ON ST_CONTAINS(zip_code_geom, st_geogpoint(pickup_longitude, pickup_latitude))\n",
    ")\n",
    "\n",
    "SELECT\n",
    "    zip_code,\n",
    "    pickup_hour,\n",
    "    EXTRACT(MONTH FROM pickup_hour) AS month,\n",
    "    EXTRACT(DAY FROM pickup_hour) AS day,\n",
    "    CAST(format_datetime('%u', pickup_hour) AS INT64) -1 AS weekday,\n",
    "    EXTRACT(HOUR FROM pickup_hour) AS hour,\n",
    "    CASE WHEN CAST(FORMAT_DATETIME('%u', pickup_hour) AS INT64) IN (6, 7) THEN 1 ELSE 0 END AS is_weekend,\n",
    "    cnt\n",
    "FROM (\n",
    "    SELECT \n",
    "        DATETIME_TRUNC(pickup_datetime, hour) AS pickup_hour,\n",
    "        count(*) AS cnt,\n",
    "        zip_code\n",
    "    FROM base_data\n",
    "    GROUP BY pickup_hour, zip_code\n",
    ")\n",
    "ORDER BY pickup_hour\n",
    "\"\"\"\n",
    "\n",
    "base_df = pd.read_gbq(query=base_query, dialect='standard', project_id=info['project'])"
   ]
  },
  {
   "cell_type": "markdown",
   "id": "153ebaeb",
   "metadata": {},
   "source": [
    "### XGBoost Regressor\n",
    "- boosting type `dart`의 경우 model selection 후 특정 ensemble 모형에 대해 gridsearch할 때 사용"
   ]
  },
  {
   "cell_type": "markdown",
   "id": "fa248eda",
   "metadata": {},
   "source": [
    "#### Label Encoding\n",
    "- baseline modeling 에서 zip_code를 One Hot Encoding 했을 때 Feature Importance가 높은 zip_code가 없었기 때문에 Label Encoding을 진행하여 차원을 줄이는 방향으로 결정"
   ]
  },
  {
   "cell_type": "code",
   "execution_count": 5,
   "id": "2e48506d",
   "metadata": {},
   "outputs": [],
   "source": [
    "le = LabelEncoder()\n",
    "\n",
    "base_df['zip_code_le'] = le.fit_transform(base_df['zip_code'])"
   ]
  },
  {
   "cell_type": "markdown",
   "id": "817d9ff4",
   "metadata": {},
   "source": [
    "#### Data Split"
   ]
  },
  {
   "cell_type": "code",
   "execution_count": 6,
   "id": "922ee574",
   "metadata": {},
   "outputs": [],
   "source": [
    "train_df, test_df = split_train_and_test_period(base_df, 7)"
   ]
  },
  {
   "cell_type": "code",
   "execution_count": 7,
   "id": "53b6e616",
   "metadata": {},
   "outputs": [],
   "source": [
    "x_train, x_test, y_train, y_test = split_x_and_y(train_df, test_df, y='cnt')"
   ]
  },
  {
   "cell_type": "markdown",
   "id": "81b164f0",
   "metadata": {},
   "source": [
    "#### 모델링_1\n",
    "- log scaling X"
   ]
  },
  {
   "cell_type": "code",
   "execution_count": 27,
   "id": "1ae15e1b",
   "metadata": {},
   "outputs": [
    {
     "name": "stdout",
     "output_type": "stream",
     "text": [
      "Make Experiment Object.\n"
     ]
    }
   ],
   "source": [
    "ex = make_experiment('nyc-demand-prediction', SAVE_PATH)"
   ]
  },
  {
   "cell_type": "code",
   "execution_count": 20,
   "id": "8754f86a",
   "metadata": {},
   "outputs": [],
   "source": [
    "@ex.config\n",
    "def config():\n",
    "    booster = ['gbtree', 'gblinear']\n",
    "    n_estimators = [100, 300, 500, 700, 1000]\n",
    "    max_depth = [3, 5, 7, 9, 11]\n",
    "    learning_rate = [0.01, 0.05, 0.1]\n",
    "    subsample = [0.5, 0.75, 1.0]\n",
    "    colsample_bytree = [0.5, 0.75, 1.0]\n",
    "    min_child_weight = [1.0, 3.0]\n",
    "    \n",
    "    fit_params = {\n",
    "        'early_stopping_rounds': 100,\n",
    "        'eval_metric': 'rmse',\n",
    "        'eval_set': [(x_test, y_test)]\n",
    "    }\n",
    "    \n",
    "    \n",
    "@ex.capture\n",
    "def get_grid_model(booster, n_estimators, max_depth, learning_rate, subsample, colsample_bytree, min_child_weight):\n",
    "    params = [{\n",
    "        'booster': booster,\n",
    "        'n_estimators': n_estimators,\n",
    "        'max_depth': max_depth,\n",
    "        'learning_rate': learning_rate,\n",
    "        'subsample': subsample,\n",
    "        'colsample_bytree': colsample_bytree,\n",
    "        'min_child_weight': min_child_weight\n",
    "        }]\n",
    "    rnd_search = RandomizedSearchCV(XGBRegressor(), param_distributions=params, n_iter=200, cv=3,\n",
    "                                    scoring='neg_mean_squared_error', verbose=0,\n",
    "                                    n_jobs=os.cpu_count()-4, random_state=13)\n",
    "    \n",
    "    return rnd_search\n",
    "\n",
    "\n",
    "@ex.main\n",
    "def run(_log, _run, fit_params):\n",
    "    global grid_xgb_reg, y_pred\n",
    "    \n",
    "    grid_xgb_reg = get_grid_model()\n",
    "    grid_xgb_reg.fit(x_train, y_train, groups=None, **fit_params, verbose=0)\n",
    "    \n",
    "    y_pred = grid_xgb_reg.best_estimator_.predict(x_test)\n",
    "    \n",
    "    score = evaluation(y_test, y_pred)\n",
    "    \n",
    "    _run.log_scalar('model_name', grid_xgb_reg.best_estimator_.__class__.__name__)\n",
    "    _run.log_scalar('model_params', grid_xgb_reg.best_params_)\n",
    "    _run.log_scalar('score', score)\n",
    "    \n",
    "    return score.to_dict()"
   ]
  },
  {
   "cell_type": "code",
   "execution_count": 9,
   "id": "0801736e",
   "metadata": {},
   "outputs": [
    {
     "name": "stderr",
     "output_type": "stream",
     "text": [
      "INFO - nyc-demand-prediction - Running command 'run'\n",
      "INFO - nyc-demand-prediction - Started run with ID \"1\"\n",
      "INFO - nyc-demand-prediction - Result: {'mape': {'score': 252.00139530495957}, 'mae': {'score': 38.67050307894591}, 'mse': {'score': 12708.977889446205}}\n",
      "INFO - nyc-demand-prediction - Completed after 0:07:12\n"
     ]
    },
    {
     "name": "stdout",
     "output_type": "stream",
     "text": [
      "CPU times: user 11.5 s, sys: 1.17 s, total: 12.7 s\n",
      "Wall time: 7min 13s\n"
     ]
    }
   ],
   "source": [
    "%%time\n",
    "experiment_result = ex.run()"
   ]
  },
  {
   "cell_type": "code",
   "execution_count": 10,
   "id": "c40119e2",
   "metadata": {},
   "outputs": [
    {
     "data": {
      "text/html": [
       "<div>\n",
       "<style scoped>\n",
       "    .dataframe tbody tr th:only-of-type {\n",
       "        vertical-align: middle;\n",
       "    }\n",
       "\n",
       "    .dataframe tbody tr th {\n",
       "        vertical-align: top;\n",
       "    }\n",
       "\n",
       "    .dataframe thead th {\n",
       "        text-align: right;\n",
       "    }\n",
       "</style>\n",
       "<table border=\"1\" class=\"dataframe\">\n",
       "  <thead>\n",
       "    <tr style=\"text-align: right;\">\n",
       "      <th></th>\n",
       "      <th>model_name</th>\n",
       "      <th>experiment_num</th>\n",
       "      <th>config</th>\n",
       "      <th>mae</th>\n",
       "      <th>mape</th>\n",
       "      <th>mse</th>\n",
       "    </tr>\n",
       "  </thead>\n",
       "  <tbody>\n",
       "    <tr>\n",
       "      <th>score</th>\n",
       "      <td>XGBRegressor</td>\n",
       "      <td>1</td>\n",
       "      <td>[{\"booster\": \"gbtree\", \"colsample_bytree\": 1.0...</td>\n",
       "      <td>38.67</td>\n",
       "      <td>252.0</td>\n",
       "      <td>12708.98</td>\n",
       "    </tr>\n",
       "  </tbody>\n",
       "</table>\n",
       "</div>"
      ],
      "text/plain": [
       "         model_name  experiment_num  \\\n",
       "score  XGBRegressor               1   \n",
       "\n",
       "                                                  config    mae   mape  \\\n",
       "score  [{\"booster\": \"gbtree\", \"colsample_bytree\": 1.0...  38.67  252.0   \n",
       "\n",
       "            mse  \n",
       "score  12708.98  "
      ]
     },
     "execution_count": 10,
     "metadata": {},
     "output_type": "execute_result"
    }
   ],
   "source": [
    "parsing_output(1)"
   ]
  },
  {
   "cell_type": "code",
   "execution_count": 11,
   "id": "f1278113",
   "metadata": {},
   "outputs": [
    {
     "data": {
      "text/plain": [
       "'[{\"booster\": \"gbtree\", \"colsample_bytree\": 1.0, \"learning_rate\": 0.1, \"max_depth\": 7, \"min_child_weight\": 3.0, \"n_estimators\": 500, \"subsample\": 0.75}]'"
      ]
     },
     "execution_count": 11,
     "metadata": {},
     "output_type": "execute_result"
    }
   ],
   "source": [
    "parsing_output(1)['config']['score']"
   ]
  },
  {
   "cell_type": "code",
   "execution_count": 12,
   "id": "7066153d",
   "metadata": {},
   "outputs": [
    {
     "data": {
      "image/png": "[encoded data removed]",
      "text/plain": [
       "<Figure size 432x288 with 1 Axes>"
      ]
     },
     "metadata": {
      "image/png": {
       "height": 248,
       "width": 414
      }
     },
     "output_type": "display_data"
    }
   ],
   "source": [
    "feat_importances = pd.Series(grid_xgb_reg.best_estimator_.feature_importances_, index=x_train.columns)\n",
    "feat_importances.nlargest(15).plot(kind='barh');"
   ]
  },
  {
   "cell_type": "markdown",
   "id": "93a23fb9",
   "metadata": {},
   "source": [
    "#### 모델링_2\n",
    "- log scaling 적용"
   ]
  },
  {
   "cell_type": "code",
   "execution_count": 13,
   "id": "270a1110",
   "metadata": {},
   "outputs": [],
   "source": [
    "base_df['log_cnt'] = np.log10(base_df['cnt'])"
   ]
  },
  {
   "cell_type": "code",
   "execution_count": 14,
   "id": "2a3056a4",
   "metadata": {},
   "outputs": [],
   "source": [
    "train_df, test_df = split_train_and_test_period(base_df, 7)"
   ]
  },
  {
   "cell_type": "code",
   "execution_count": 15,
   "id": "1865ee3c",
   "metadata": {},
   "outputs": [],
   "source": [
    "x_train, x_test, y_train_log, y_test_raw, y_test_log = split_x_and_y_log(train_df, test_df, y='log_cnt')"
   ]
  },
  {
   "cell_type": "code",
   "execution_count": 15,
   "id": "a532398f",
   "metadata": {},
   "outputs": [
    {
     "name": "stdout",
     "output_type": "stream",
     "text": [
      "Make Experiment Object.\n"
     ]
    }
   ],
   "source": [
    "ex = make_experiment('nyc-demand-prediction', SAVE_PATH)"
   ]
  },
  {
   "cell_type": "code",
   "execution_count": 21,
   "id": "7d48a07d",
   "metadata": {},
   "outputs": [],
   "source": [
    "@ex.config\n",
    "def config():\n",
    "    booster = ['gbtree', 'gblinear']\n",
    "    n_estimators = [100, 300, 500, 700, 1000]\n",
    "    max_depth = [3, 5, 7, 9, 11]\n",
    "    learning_rate = [0.01, 0.05, 0.1]\n",
    "    subsample = [0.5, 0.75, 1.0]\n",
    "    colsample_bytree = [0.5, 0.75, 1.0]\n",
    "    min_child_weight = [1.0, 3.0]\n",
    "    \n",
    "    fit_params = {\n",
    "        'early_stopping_rounds': 100,\n",
    "        'eval_metric': 'rmse',\n",
    "        'eval_set': [(x_test, y_test_log)]\n",
    "    }\n",
    "    \n",
    "    \n",
    "@ex.capture\n",
    "def get_grid_model(booster, n_estimators, max_depth, learning_rate, subsample, colsample_bytree, min_child_weight):\n",
    "    params = [{\n",
    "        'booster': booster,\n",
    "        'n_estimators': n_estimators,\n",
    "        'max_depth': max_depth,\n",
    "        'learning_rate': learning_rate,\n",
    "        'subsample': subsample,\n",
    "        'colsample_bytree': colsample_bytree,\n",
    "        'min_child_weight': min_child_weight\n",
    "        }]\n",
    "    rnd_search = RandomizedSearchCV(XGBRegressor(), param_distributions=params, n_iter=200, cv=3,\n",
    "                                    scoring='neg_mean_squared_error', verbose=0,\n",
    "                                    n_jobs=os.cpu_count()-4, random_state=13)\n",
    "    \n",
    "    return rnd_search\n",
    "\n",
    "\n",
    "@ex.main\n",
    "def run(_log, _run, fit_params):\n",
    "    global grid_xgb_reg, y_pred\n",
    "    \n",
    "    grid_xgb_reg = get_grid_model()\n",
    "    grid_xgb_reg.fit(x_train, y_train_log, groups=None, **fit_params, verbose=0)\n",
    "    \n",
    "    y_pred = grid_xgb_reg.best_estimator_.predict(x_test)\n",
    "    y_pred_reverse = 10**y_pred\n",
    "    \n",
    "    score = evaluation(y_test_raw, y_pred_reverse)\n",
    "    \n",
    "    _run.log_scalar('model_name', grid_xgb_reg.best_estimator_.__class__.__name__)\n",
    "    _run.log_scalar('model_params', grid_xgb_reg.best_params_)\n",
    "    _run.log_scalar('score', score)\n",
    "    \n",
    "    return score.to_dict()"
   ]
  },
  {
   "cell_type": "code",
   "execution_count": 18,
   "id": "0f3ff92c",
   "metadata": {},
   "outputs": [
    {
     "name": "stderr",
     "output_type": "stream",
     "text": [
      "INFO - nyc-demand-prediction - Running command 'run'\n",
      "INFO - nyc-demand-prediction - Started run with ID \"2\"\n",
      "INFO - nyc-demand-prediction - Result: {'mape': {'score': 157.25449150510462}, 'mae': {'score': 34.77152604375481}, 'mse': {'score': 11397.454287826673}}\n",
      "INFO - nyc-demand-prediction - Completed after 0:08:53\n"
     ]
    },
    {
     "name": "stdout",
     "output_type": "stream",
     "text": [
      "CPU times: user 15.8 s, sys: 1.29 s, total: 17.1 s\n",
      "Wall time: 8min 52s\n"
     ]
    }
   ],
   "source": [
    "%%time\n",
    "experiment_result_2 = ex.run()"
   ]
  },
  {
   "cell_type": "code",
   "execution_count": 19,
   "id": "17b92047",
   "metadata": {},
   "outputs": [
    {
     "data": {
      "text/html": [
       "<div>\n",
       "<style scoped>\n",
       "    .dataframe tbody tr th:only-of-type {\n",
       "        vertical-align: middle;\n",
       "    }\n",
       "\n",
       "    .dataframe tbody tr th {\n",
       "        vertical-align: top;\n",
       "    }\n",
       "\n",
       "    .dataframe thead th {\n",
       "        text-align: right;\n",
       "    }\n",
       "</style>\n",
       "<table border=\"1\" class=\"dataframe\">\n",
       "  <thead>\n",
       "    <tr style=\"text-align: right;\">\n",
       "      <th></th>\n",
       "      <th>model_name</th>\n",
       "      <th>experiment_num</th>\n",
       "      <th>config</th>\n",
       "      <th>mae</th>\n",
       "      <th>mape</th>\n",
       "      <th>mse</th>\n",
       "    </tr>\n",
       "  </thead>\n",
       "  <tbody>\n",
       "    <tr>\n",
       "      <th>score</th>\n",
       "      <td>XGBRegressor</td>\n",
       "      <td>1</td>\n",
       "      <td>[{\"booster\": \"gbtree\", \"colsample_bytree\": 1.0...</td>\n",
       "      <td>38.67</td>\n",
       "      <td>252.00</td>\n",
       "      <td>12708.98</td>\n",
       "    </tr>\n",
       "    <tr>\n",
       "      <th>score</th>\n",
       "      <td>XGBRegressor</td>\n",
       "      <td>2</td>\n",
       "      <td>[{\"booster\": \"gbtree\", \"colsample_bytree\": 1.0...</td>\n",
       "      <td>34.77</td>\n",
       "      <td>157.25</td>\n",
       "      <td>11397.45</td>\n",
       "    </tr>\n",
       "  </tbody>\n",
       "</table>\n",
       "</div>"
      ],
      "text/plain": [
       "         model_name  experiment_num  \\\n",
       "score  XGBRegressor               1   \n",
       "score  XGBRegressor               2   \n",
       "\n",
       "                                                  config    mae    mape  \\\n",
       "score  [{\"booster\": \"gbtree\", \"colsample_bytree\": 1.0...  38.67  252.00   \n",
       "score  [{\"booster\": \"gbtree\", \"colsample_bytree\": 1.0...  34.77  157.25   \n",
       "\n",
       "            mse  \n",
       "score  12708.98  \n",
       "score  11397.45  "
      ]
     },
     "execution_count": 19,
     "metadata": {},
     "output_type": "execute_result"
    }
   ],
   "source": [
    "pd.concat([parsing_output(1), parsing_output(2)])"
   ]
  },
  {
   "cell_type": "code",
   "execution_count": 20,
   "id": "64653d6c",
   "metadata": {},
   "outputs": [
    {
     "data": {
      "text/plain": [
       "'[{\"booster\": \"gbtree\", \"colsample_bytree\": 1.0, \"learning_rate\": 0.05, \"max_depth\": 11, \"min_child_weight\": 1.0, \"n_estimators\": 1000, \"subsample\": 0.5}]'"
      ]
     },
     "execution_count": 20,
     "metadata": {},
     "output_type": "execute_result"
    }
   ],
   "source": [
    "parsing_output(2)['config']['score']"
   ]
  },
  {
   "cell_type": "code",
   "execution_count": 21,
   "id": "c049b422",
   "metadata": {},
   "outputs": [
    {
     "data": {
      "image/png": "[encoded data removed]",
      "text/plain": [
       "<Figure size 432x288 with 1 Axes>"
      ]
     },
     "metadata": {
      "image/png": {
       "height": 248,
       "width": 414
      }
     },
     "output_type": "display_data"
    }
   ],
   "source": [
    "feat_importances = pd.Series(grid_xgb_reg.best_estimator_.feature_importances_, index=x_train.columns)\n",
    "feat_importances.nlargest(15).plot(kind='barh');"
   ]
  },
  {
   "cell_type": "markdown",
   "id": "505139ce",
   "metadata": {},
   "source": [
    "### Lightgbm Regressor"
   ]
  },
  {
   "cell_type": "code",
   "execution_count": 24,
   "id": "53c9dcee",
   "metadata": {},
   "outputs": [],
   "source": [
    "le = LabelEncoder()\n",
    "\n",
    "base_df['zip_code_le'] = le.fit_transform(base_df['zip_code'])"
   ]
  },
  {
   "cell_type": "code",
   "execution_count": 25,
   "id": "cebb4aa6",
   "metadata": {},
   "outputs": [],
   "source": [
    "train_df, test_df = split_train_and_test_period(base_df, 7)"
   ]
  },
  {
   "cell_type": "code",
   "execution_count": 26,
   "id": "b0b746fe",
   "metadata": {},
   "outputs": [],
   "source": [
    "x_train, x_test, y_train, y_test = split_x_and_y(train_df, test_df, y='cnt')"
   ]
  },
  {
   "cell_type": "code",
   "execution_count": 16,
   "id": "d98205a6",
   "metadata": {},
   "outputs": [
    {
     "name": "stdout",
     "output_type": "stream",
     "text": [
      "Make Experiment Object.\n"
     ]
    }
   ],
   "source": [
    "ex = make_experiment('nyc-demand-prediction', SAVE_PATH)"
   ]
  },
  {
   "cell_type": "code",
   "execution_count": 28,
   "id": "35d62597",
   "metadata": {},
   "outputs": [],
   "source": [
    "@ex.config\n",
    "def config():\n",
    "    boosting_type = ['rf', 'gbdt', 'goss']\n",
    "    n_estimators = [100, 300, 500, 700, 1000]\n",
    "    max_depth = [3, 5, 7, 9, 11]\n",
    "    learning_rate = [0.01, 0.05, 0.1]\n",
    "    subsample = [0.5, 0.75, 1.0]\n",
    "    colsample_bytree = [0.5, 0.75, 1.0]\n",
    "    min_child_weight = [1.0, 3.0]\n",
    "    \n",
    "    fit_params = {\n",
    "        'early_stopping_rounds': 100,\n",
    "        'eval_metric': 'rmse',\n",
    "        'eval_set': [(x_test, y_test)]\n",
    "    }\n",
    "    \n",
    "    \n",
    "@ex.capture\n",
    "def get_grid_model(boosting_type, n_estimators, max_depth, learning_rate, subsample, colsample_bytree, min_child_weight):\n",
    "    params = [{\n",
    "        'boosting_type': boosting_type,\n",
    "        'n_estimators': n_estimators,\n",
    "        'max_depth': max_depth,\n",
    "        'learning_rate': learning_rate,\n",
    "        'subsample': subsample,\n",
    "        'colsample_bytree': colsample_bytree,\n",
    "        'min_child_weight': min_child_weight\n",
    "        }]\n",
    "    \n",
    "    rnd_search = RandomizedSearchCV(LGBMRegressor(), param_distributions=params, n_iter=200, cv=3,\n",
    "                                    scoring='neg_mean_squared_error', verbose=0,\n",
    "                                    n_jobs=os.cpu_count()-4, random_state=13)\n",
    "    \n",
    "    return rnd_search\n",
    "\n",
    "\n",
    "@ex.main\n",
    "def run(_log, _run, fit_params):\n",
    "    global grid_lgbm_reg, y_pred\n",
    "    \n",
    "    grid_lgbm_reg = get_grid_model()\n",
    "    grid_lgbm_reg.fit(x_train, y_train, groups=None, **fit_params, verbose=0)\n",
    "    \n",
    "    y_pred = grid_lgbm_reg.best_estimator_.predict(x_test)\n",
    "    \n",
    "    score = evaluation(y_test, y_pred)\n",
    "    \n",
    "    _run.log_scalar('model_name', grid_lgbm_reg.best_estimator_.__class__.__name__)\n",
    "    _run.log_scalar('model_params', grid_lgbm_reg.best_params_)\n",
    "    _run.log_scalar('score', score)\n",
    "    \n",
    "    return score.to_dict()"
   ]
  },
  {
   "cell_type": "code",
   "execution_count": 29,
   "id": "f32ae688",
   "metadata": {},
   "outputs": [
    {
     "name": "stderr",
     "output_type": "stream",
     "text": [
      "INFO - nyc-demand-prediction - Running command 'run'\n",
      "INFO - nyc-demand-prediction - Started run with ID \"3\"\n",
      "INFO - nyc-demand-prediction - Result: {'mape': {'score': 285.97207158262756}, 'mae': {'score': 40.9389040130079}, 'mse': {'score': 13411.78761327463}}\n",
      "INFO - nyc-demand-prediction - Completed after 0:02:06\n"
     ]
    },
    {
     "name": "stdout",
     "output_type": "stream",
     "text": [
      "CPU times: user 13.9 s, sys: 3.15 s, total: 17 s\n",
      "Wall time: 2min 6s\n"
     ]
    }
   ],
   "source": [
    "%%time\n",
    "experiment_result_3 = ex.run()"
   ]
  },
  {
   "cell_type": "code",
   "execution_count": 30,
   "id": "3c2e8931",
   "metadata": {},
   "outputs": [
    {
     "data": {
      "text/html": [
       "<div>\n",
       "<style scoped>\n",
       "    .dataframe tbody tr th:only-of-type {\n",
       "        vertical-align: middle;\n",
       "    }\n",
       "\n",
       "    .dataframe tbody tr th {\n",
       "        vertical-align: top;\n",
       "    }\n",
       "\n",
       "    .dataframe thead th {\n",
       "        text-align: right;\n",
       "    }\n",
       "</style>\n",
       "<table border=\"1\" class=\"dataframe\">\n",
       "  <thead>\n",
       "    <tr style=\"text-align: right;\">\n",
       "      <th></th>\n",
       "      <th>model_name</th>\n",
       "      <th>experiment_num</th>\n",
       "      <th>config</th>\n",
       "      <th>mae</th>\n",
       "      <th>mape</th>\n",
       "      <th>mse</th>\n",
       "    </tr>\n",
       "  </thead>\n",
       "  <tbody>\n",
       "    <tr>\n",
       "      <th>score</th>\n",
       "      <td>XGBRegressor</td>\n",
       "      <td>1</td>\n",
       "      <td>[{\"booster\": \"gbtree\", \"colsample_bytree\": 1.0...</td>\n",
       "      <td>38.67</td>\n",
       "      <td>252.00</td>\n",
       "      <td>12708.98</td>\n",
       "    </tr>\n",
       "    <tr>\n",
       "      <th>score</th>\n",
       "      <td>XGBRegressor</td>\n",
       "      <td>2</td>\n",
       "      <td>[{\"booster\": \"gbtree\", \"colsample_bytree\": 1.0...</td>\n",
       "      <td>34.77</td>\n",
       "      <td>157.25</td>\n",
       "      <td>11397.45</td>\n",
       "    </tr>\n",
       "    <tr>\n",
       "      <th>score</th>\n",
       "      <td>LGBMRegressor</td>\n",
       "      <td>3</td>\n",
       "      <td>[{\"boosting_type\": \"goss\", \"colsample_bytree\":...</td>\n",
       "      <td>40.94</td>\n",
       "      <td>285.97</td>\n",
       "      <td>13411.79</td>\n",
       "    </tr>\n",
       "  </tbody>\n",
       "</table>\n",
       "</div>"
      ],
      "text/plain": [
       "          model_name  experiment_num  \\\n",
       "score   XGBRegressor               1   \n",
       "score   XGBRegressor               2   \n",
       "score  LGBMRegressor               3   \n",
       "\n",
       "                                                  config    mae    mape  \\\n",
       "score  [{\"booster\": \"gbtree\", \"colsample_bytree\": 1.0...  38.67  252.00   \n",
       "score  [{\"booster\": \"gbtree\", \"colsample_bytree\": 1.0...  34.77  157.25   \n",
       "score  [{\"boosting_type\": \"goss\", \"colsample_bytree\":...  40.94  285.97   \n",
       "\n",
       "            mse  \n",
       "score  12708.98  \n",
       "score  11397.45  \n",
       "score  13411.79  "
      ]
     },
     "execution_count": 30,
     "metadata": {},
     "output_type": "execute_result"
    }
   ],
   "source": [
    "pd.concat([parsing_output(1), parsing_output(2), parsing_output(3)])"
   ]
  },
  {
   "cell_type": "code",
   "execution_count": 31,
   "id": "71d8aef4",
   "metadata": {},
   "outputs": [
    {
     "data": {
      "image/png": "[encoded data removed]",
      "text/plain": [
       "<Figure size 432x288 with 1 Axes>"
      ]
     },
     "metadata": {
      "image/png": {
       "height": 248,
       "width": 418
      }
     },
     "output_type": "display_data"
    }
   ],
   "source": [
    "feat_importances = pd.Series(grid_lgbm_reg.best_estimator_.feature_importances_, index=x_train.columns)\n",
    "feat_importances.nlargest(15).plot(kind='barh');"
   ]
  },
  {
   "cell_type": "markdown",
   "id": "39ea9c86",
   "metadata": {},
   "source": [
    "#### log scaling 적용"
   ]
  },
  {
   "cell_type": "code",
   "execution_count": 32,
   "id": "261d0184",
   "metadata": {},
   "outputs": [],
   "source": [
    "base_df['log_cnt'] = np.log10(base_df['cnt'])\n",
    "\n",
    "train_df, test_df = split_train_and_test_period(base_df, 7)\n",
    "\n",
    "x_train, x_test, y_train_log, y_test_raw, y_test_log = split_x_and_y_log(train_df, test_df, y='log_cnt')"
   ]
  },
  {
   "cell_type": "code",
   "execution_count": 17,
   "id": "1b6bb151",
   "metadata": {},
   "outputs": [
    {
     "name": "stdout",
     "output_type": "stream",
     "text": [
      "Make Experiment Object.\n"
     ]
    }
   ],
   "source": [
    "ex = make_experiment('nyc-demand-prediction', SAVE_PATH)"
   ]
  },
  {
   "cell_type": "code",
   "execution_count": 34,
   "id": "45d2683b",
   "metadata": {},
   "outputs": [],
   "source": [
    "@ex.config\n",
    "def config():\n",
    "    boosting_type = ['rf', 'gbdt', 'goss']\n",
    "    n_estimators = [100, 300, 500, 700, 1000]\n",
    "    max_depth = [3, 5, 7, 9, 11]\n",
    "    learning_rate = [0.01, 0.05, 0.1]\n",
    "    subsample = [0.5, 0.75, 1.0]\n",
    "    colsample_bytree = [0.5, 0.75, 1.0]\n",
    "    min_child_weight = [1.0, 3.0]\n",
    "    \n",
    "    fit_params = {\n",
    "        'early_stopping_rounds': 100,\n",
    "        'eval_metric': 'rmse',\n",
    "        'eval_set': [(x_test, y_test_log)]\n",
    "    }\n",
    "    \n",
    "    \n",
    "@ex.capture\n",
    "def get_grid_model(boosting_type, n_estimators, max_depth, learning_rate, subsample, colsample_bytree, min_child_weight):\n",
    "    params = [{\n",
    "        'boosting_type': boosting_type,\n",
    "        'n_estimators': n_estimators,\n",
    "        'max_depth': max_depth,\n",
    "        'learning_rate': learning_rate,\n",
    "        'subsample': subsample,\n",
    "        'colsample_bytree': colsample_bytree,\n",
    "        'min_child_weight': min_child_weight\n",
    "        }]\n",
    "    \n",
    "    rnd_search = RandomizedSearchCV(LGBMRegressor(), param_distributions=params, n_iter=200, cv=3,\n",
    "                                    scoring='neg_mean_squared_error', verbose=0,\n",
    "                                    n_jobs=os.cpu_count()-4, random_state=13)\n",
    "    \n",
    "    return rnd_search\n",
    "\n",
    "\n",
    "@ex.main\n",
    "def run(_log, _run, fit_params):\n",
    "    global grid_lgbm_reg, y_pred\n",
    "    \n",
    "    grid_lgbm_reg = get_grid_model()\n",
    "    grid_lgbm_reg.fit(x_train, y_train_log, groups=None, **fit_params, verbose=0)\n",
    "    \n",
    "    y_pred = grid_lgbm_reg.best_estimator_.predict(x_test)\n",
    "    y_pred_reverse = 10**y_pred\n",
    "    \n",
    "    score = evaluation(y_test_raw, y_pred_reverse)\n",
    "    \n",
    "    _run.log_scalar('model_name', grid_lgbm_reg.best_estimator_.__class__.__name__)\n",
    "    _run.log_scalar('model_params', grid_lgbm_reg.best_params_)\n",
    "    _run.log_scalar('score', score)\n",
    "    \n",
    "    return score.to_dict()"
   ]
  },
  {
   "cell_type": "code",
   "execution_count": 35,
   "id": "38667899",
   "metadata": {},
   "outputs": [
    {
     "name": "stderr",
     "output_type": "stream",
     "text": [
      "INFO - nyc-demand-prediction - Running command 'run'\n",
      "INFO - nyc-demand-prediction - Started run with ID \"4\"\n",
      "INFO - nyc-demand-prediction - Result: {'mape': {'score': 155.94740414948117}, 'mae': {'score': 36.742807363185584}, 'mse': {'score': 12422.035603193515}}\n",
      "INFO - nyc-demand-prediction - Completed after 0:02:33\n"
     ]
    },
    {
     "name": "stdout",
     "output_type": "stream",
     "text": [
      "CPU times: user 12.4 s, sys: 3.69 s, total: 16.1 s\n",
      "Wall time: 2min 33s\n"
     ]
    }
   ],
   "source": [
    "%%time\n",
    "experiment_result_4 = ex.run()"
   ]
  },
  {
   "cell_type": "code",
   "execution_count": 36,
   "id": "398ef0c5",
   "metadata": {},
   "outputs": [
    {
     "data": {
      "text/html": [
       "<div>\n",
       "<style scoped>\n",
       "    .dataframe tbody tr th:only-of-type {\n",
       "        vertical-align: middle;\n",
       "    }\n",
       "\n",
       "    .dataframe tbody tr th {\n",
       "        vertical-align: top;\n",
       "    }\n",
       "\n",
       "    .dataframe thead th {\n",
       "        text-align: right;\n",
       "    }\n",
       "</style>\n",
       "<table border=\"1\" class=\"dataframe\">\n",
       "  <thead>\n",
       "    <tr style=\"text-align: right;\">\n",
       "      <th></th>\n",
       "      <th>model_name</th>\n",
       "      <th>experiment_num</th>\n",
       "      <th>config</th>\n",
       "      <th>mae</th>\n",
       "      <th>mape</th>\n",
       "      <th>mse</th>\n",
       "    </tr>\n",
       "  </thead>\n",
       "  <tbody>\n",
       "    <tr>\n",
       "      <th>score</th>\n",
       "      <td>XGBRegressor</td>\n",
       "      <td>1</td>\n",
       "      <td>[{\"booster\": \"gbtree\", \"colsample_bytree\": 1.0...</td>\n",
       "      <td>38.67</td>\n",
       "      <td>252.00</td>\n",
       "      <td>12708.98</td>\n",
       "    </tr>\n",
       "    <tr>\n",
       "      <th>score</th>\n",
       "      <td>XGBRegressor</td>\n",
       "      <td>2</td>\n",
       "      <td>[{\"booster\": \"gbtree\", \"colsample_bytree\": 1.0...</td>\n",
       "      <td>34.77</td>\n",
       "      <td>157.25</td>\n",
       "      <td>11397.45</td>\n",
       "    </tr>\n",
       "    <tr>\n",
       "      <th>score</th>\n",
       "      <td>LGBMRegressor</td>\n",
       "      <td>3</td>\n",
       "      <td>[{\"boosting_type\": \"goss\", \"colsample_bytree\":...</td>\n",
       "      <td>40.94</td>\n",
       "      <td>285.97</td>\n",
       "      <td>13411.79</td>\n",
       "    </tr>\n",
       "    <tr>\n",
       "      <th>score</th>\n",
       "      <td>LGBMRegressor</td>\n",
       "      <td>4</td>\n",
       "      <td>[{\"boosting_type\": \"gbdt\", \"colsample_bytree\":...</td>\n",
       "      <td>36.74</td>\n",
       "      <td>155.95</td>\n",
       "      <td>12422.04</td>\n",
       "    </tr>\n",
       "  </tbody>\n",
       "</table>\n",
       "</div>"
      ],
      "text/plain": [
       "          model_name  experiment_num  \\\n",
       "score   XGBRegressor               1   \n",
       "score   XGBRegressor               2   \n",
       "score  LGBMRegressor               3   \n",
       "score  LGBMRegressor               4   \n",
       "\n",
       "                                                  config    mae    mape  \\\n",
       "score  [{\"booster\": \"gbtree\", \"colsample_bytree\": 1.0...  38.67  252.00   \n",
       "score  [{\"booster\": \"gbtree\", \"colsample_bytree\": 1.0...  34.77  157.25   \n",
       "score  [{\"boosting_type\": \"goss\", \"colsample_bytree\":...  40.94  285.97   \n",
       "score  [{\"boosting_type\": \"gbdt\", \"colsample_bytree\":...  36.74  155.95   \n",
       "\n",
       "            mse  \n",
       "score  12708.98  \n",
       "score  11397.45  \n",
       "score  13411.79  \n",
       "score  12422.04  "
      ]
     },
     "execution_count": 36,
     "metadata": {},
     "output_type": "execute_result"
    }
   ],
   "source": [
    "pd.concat([parsing_output(1), parsing_output(2), parsing_output(3), parsing_output(4)])"
   ]
  },
  {
   "cell_type": "code",
   "execution_count": 37,
   "id": "f71f0fd4",
   "metadata": {},
   "outputs": [
    {
     "data": {
      "image/png": "[encoded data removed]",
      "text/plain": [
       "<Figure size 432x288 with 1 Axes>"
      ]
     },
     "metadata": {
      "image/png": {
       "height": 248,
       "width": 414
      }
     },
     "output_type": "display_data"
    }
   ],
   "source": [
    "feat_importances = pd.Series(grid_lgbm_reg.best_estimator_.feature_importances_, index=x_train.columns)\n",
    "feat_importances.nlargest(15).plot(kind='barh');"
   ]
  },
  {
   "cell_type": "markdown",
   "id": "69c8b4e8",
   "metadata": {},
   "source": [
    "### RandomForest Regressor\n",
    "- Random Forest 에는 early stopping이 없기에 fit_params 사용 X"
   ]
  },
  {
   "cell_type": "code",
   "execution_count": 40,
   "id": "e04895d9",
   "metadata": {},
   "outputs": [],
   "source": [
    "le = LabelEncoder()\n",
    "base_df['zip_code_le'] = le.fit_transform(base_df['zip_code'])\n",
    "\n",
    "train_df, test_df = split_train_and_test_period(base_df, 7)\n",
    "\n",
    "x_train, x_test, y_train, y_test = split_x_and_y(train_df, test_df, y='cnt')"
   ]
  },
  {
   "cell_type": "code",
   "execution_count": 18,
   "id": "93efd1d1",
   "metadata": {},
   "outputs": [
    {
     "name": "stdout",
     "output_type": "stream",
     "text": [
      "Make Experiment Object.\n"
     ]
    }
   ],
   "source": [
    "ex = make_experiment('nyc-demand-prediction', SAVE_PATH)"
   ]
  },
  {
   "cell_type": "code",
   "execution_count": 42,
   "id": "8a354503",
   "metadata": {},
   "outputs": [],
   "source": [
    "@ex.config\n",
    "def config():\n",
    "    n_estimators = [100, 300, 500, 700, 1000]\n",
    "    max_depth = [3, 5, 7, 9, 11]\n",
    "    max_samples = [0.5, 0.75, None] # None이 x.shape[0]이기에 1.0과 같음\n",
    "    max_features = ['auto', 'sqrt', 'log2']\n",
    "    min_samples_split = [2, 5, 10]\n",
    "    min_samples_leaf = [1, 2, 4]\n",
    "    bootstrap = ['True', 'False']\n",
    "    \n",
    "    \n",
    "@ex.capture\n",
    "def get_grid_model(n_estimators, max_depth, max_samples, max_features, min_samples_split, min_samples_leaf, bootstrap):\n",
    "    params = [{\n",
    "        'n_estimators': n_estimators, \n",
    "        'max_depth': max_depth,\n",
    "        'max_samples': max_samples, # 각 예측기에 샘플들이 랜덤하게 몇%씩 들어가는지 setting\n",
    "        'max_features': max_features,\n",
    "        'min_samples_split': min_samples_split,\n",
    "        'min_samples_leaf': min_samples_leaf,\n",
    "        'bootstrap': bootstrap\n",
    "        }]\n",
    "    rnd_search = RandomizedSearchCV(RandomForestRegressor(), param_distributions=params, n_iter=200, cv=3,\n",
    "                                    scoring='neg_mean_squared_error', verbose=0,\n",
    "                                    n_jobs=os.cpu_count()-4, random_state=13)\n",
    "    \n",
    "    return rnd_search\n",
    "\n",
    "\n",
    "@ex.main\n",
    "def run(_log, _run):\n",
    "    global grid_rf_reg, y_pred\n",
    "    \n",
    "    grid_rf_reg = get_grid_model()\n",
    "    grid_rf_reg.fit(x_train, y_train)\n",
    "    \n",
    "    y_pred = grid_rf_reg.best_estimator_.predict(x_test)\n",
    "    \n",
    "    score = evaluation(y_test, y_pred)\n",
    "    \n",
    "    _run.log_scalar('model_name', grid_rf_reg.best_estimator_.__class__.__name__)\n",
    "    _run.log_scalar('model_params', grid_rf_reg.best_params_)\n",
    "    _run.log_scalar('score', score)\n",
    "    \n",
    "    return score.to_dict()"
   ]
  },
  {
   "cell_type": "code",
   "execution_count": 43,
   "id": "ba8cbcf6",
   "metadata": {
    "scrolled": false
   },
   "outputs": [
    {
     "name": "stderr",
     "output_type": "stream",
     "text": [
      "INFO - nyc-demand-prediction - Running command 'run'\n",
      "INFO - nyc-demand-prediction - Started run with ID \"5\"\n",
      "INFO - nyc-demand-prediction - Result: {'mape': {'score': 235.08115815034412}, 'mae': {'score': 44.32385465561981}, 'mse': {'score': 15981.149672638623}}\n",
      "INFO - nyc-demand-prediction - Completed after 0:13:50\n"
     ]
    },
    {
     "name": "stdout",
     "output_type": "stream",
     "text": [
      "CPU times: user 19.4 s, sys: 943 ms, total: 20.4 s\n",
      "Wall time: 13min 50s\n"
     ]
    }
   ],
   "source": [
    "%%time\n",
    "experiment_result_4 = ex.run()"
   ]
  },
  {
   "cell_type": "code",
   "execution_count": 45,
   "id": "7a2a6c20",
   "metadata": {},
   "outputs": [
    {
     "data": {
      "text/html": [
       "<div>\n",
       "<style scoped>\n",
       "    .dataframe tbody tr th:only-of-type {\n",
       "        vertical-align: middle;\n",
       "    }\n",
       "\n",
       "    .dataframe tbody tr th {\n",
       "        vertical-align: top;\n",
       "    }\n",
       "\n",
       "    .dataframe thead th {\n",
       "        text-align: right;\n",
       "    }\n",
       "</style>\n",
       "<table border=\"1\" class=\"dataframe\">\n",
       "  <thead>\n",
       "    <tr style=\"text-align: right;\">\n",
       "      <th></th>\n",
       "      <th>model_name</th>\n",
       "      <th>experiment_num</th>\n",
       "      <th>config</th>\n",
       "      <th>mae</th>\n",
       "      <th>mape</th>\n",
       "      <th>mse</th>\n",
       "    </tr>\n",
       "  </thead>\n",
       "  <tbody>\n",
       "    <tr>\n",
       "      <th>score</th>\n",
       "      <td>XGBRegressor</td>\n",
       "      <td>1</td>\n",
       "      <td>[{\"booster\": \"gbtree\", \"colsample_bytree\": 1.0...</td>\n",
       "      <td>38.67</td>\n",
       "      <td>252.00</td>\n",
       "      <td>12708.98</td>\n",
       "    </tr>\n",
       "    <tr>\n",
       "      <th>score</th>\n",
       "      <td>XGBRegressor</td>\n",
       "      <td>2</td>\n",
       "      <td>[{\"booster\": \"gbtree\", \"colsample_bytree\": 1.0...</td>\n",
       "      <td>34.77</td>\n",
       "      <td>157.25</td>\n",
       "      <td>11397.45</td>\n",
       "    </tr>\n",
       "    <tr>\n",
       "      <th>score</th>\n",
       "      <td>LGBMRegressor</td>\n",
       "      <td>3</td>\n",
       "      <td>[{\"boosting_type\": \"goss\", \"colsample_bytree\":...</td>\n",
       "      <td>40.94</td>\n",
       "      <td>285.97</td>\n",
       "      <td>13411.79</td>\n",
       "    </tr>\n",
       "    <tr>\n",
       "      <th>score</th>\n",
       "      <td>LGBMRegressor</td>\n",
       "      <td>4</td>\n",
       "      <td>[{\"boosting_type\": \"gbdt\", \"colsample_bytree\":...</td>\n",
       "      <td>36.74</td>\n",
       "      <td>155.95</td>\n",
       "      <td>12422.04</td>\n",
       "    </tr>\n",
       "    <tr>\n",
       "      <th>score</th>\n",
       "      <td>RandomForestRegressor</td>\n",
       "      <td>5</td>\n",
       "      <td>[{\"bootstrap\": \"True\", \"max_depth\": 11, \"max_f...</td>\n",
       "      <td>44.32</td>\n",
       "      <td>235.08</td>\n",
       "      <td>15981.15</td>\n",
       "    </tr>\n",
       "  </tbody>\n",
       "</table>\n",
       "</div>"
      ],
      "text/plain": [
       "                  model_name  experiment_num  \\\n",
       "score           XGBRegressor               1   \n",
       "score           XGBRegressor               2   \n",
       "score          LGBMRegressor               3   \n",
       "score          LGBMRegressor               4   \n",
       "score  RandomForestRegressor               5   \n",
       "\n",
       "                                                  config    mae    mape  \\\n",
       "score  [{\"booster\": \"gbtree\", \"colsample_bytree\": 1.0...  38.67  252.00   \n",
       "score  [{\"booster\": \"gbtree\", \"colsample_bytree\": 1.0...  34.77  157.25   \n",
       "score  [{\"boosting_type\": \"goss\", \"colsample_bytree\":...  40.94  285.97   \n",
       "score  [{\"boosting_type\": \"gbdt\", \"colsample_bytree\":...  36.74  155.95   \n",
       "score  [{\"bootstrap\": \"True\", \"max_depth\": 11, \"max_f...  44.32  235.08   \n",
       "\n",
       "            mse  \n",
       "score  12708.98  \n",
       "score  11397.45  \n",
       "score  13411.79  \n",
       "score  12422.04  \n",
       "score  15981.15  "
      ]
     },
     "execution_count": 45,
     "metadata": {},
     "output_type": "execute_result"
    }
   ],
   "source": [
    "results = []\n",
    "for i in range(1, 6):\n",
    "    results.append(parsing_output(i))\n",
    "    \n",
    "pd.concat(results)"
   ]
  },
  {
   "cell_type": "markdown",
   "id": "6ca92dc0",
   "metadata": {},
   "source": [
    "---"
   ]
  },
  {
   "cell_type": "markdown",
   "id": "7edfe55f",
   "metadata": {},
   "source": [
    "---"
   ]
  },
  {
   "cell_type": "markdown",
   "id": "aa92f3de",
   "metadata": {},
   "source": [
    "## Best Model 선정 및 결과 분석\n",
    "- log scaling이 적용된 XGBRegressor Model"
   ]
  },
  {
   "cell_type": "code",
   "execution_count": 3,
   "id": "56b03164",
   "metadata": {},
   "outputs": [
    {
     "data": {
      "text/html": [
       "<div>\n",
       "<style scoped>\n",
       "    .dataframe tbody tr th:only-of-type {\n",
       "        vertical-align: middle;\n",
       "    }\n",
       "\n",
       "    .dataframe tbody tr th {\n",
       "        vertical-align: top;\n",
       "    }\n",
       "\n",
       "    .dataframe thead th {\n",
       "        text-align: right;\n",
       "    }\n",
       "</style>\n",
       "<table border=\"1\" class=\"dataframe\">\n",
       "  <thead>\n",
       "    <tr style=\"text-align: right;\">\n",
       "      <th></th>\n",
       "      <th>model_name</th>\n",
       "      <th>experiment_num</th>\n",
       "      <th>config</th>\n",
       "      <th>mae</th>\n",
       "      <th>mape</th>\n",
       "      <th>mse</th>\n",
       "    </tr>\n",
       "  </thead>\n",
       "  <tbody>\n",
       "    <tr>\n",
       "      <th>score</th>\n",
       "      <td>XGBRegressor</td>\n",
       "      <td>2</td>\n",
       "      <td>[{\"booster\": \"gbtree\", \"colsample_bytree\": 1.0...</td>\n",
       "      <td>34.77</td>\n",
       "      <td>157.25</td>\n",
       "      <td>11397.45</td>\n",
       "    </tr>\n",
       "    <tr>\n",
       "      <th>score</th>\n",
       "      <td>LGBMRegressor</td>\n",
       "      <td>4</td>\n",
       "      <td>[{\"boosting_type\": \"gbdt\", \"colsample_bytree\":...</td>\n",
       "      <td>36.74</td>\n",
       "      <td>155.95</td>\n",
       "      <td>12422.04</td>\n",
       "    </tr>\n",
       "    <tr>\n",
       "      <th>score</th>\n",
       "      <td>XGBRegressor</td>\n",
       "      <td>1</td>\n",
       "      <td>[{\"booster\": \"gbtree\", \"colsample_bytree\": 1.0...</td>\n",
       "      <td>38.67</td>\n",
       "      <td>252.00</td>\n",
       "      <td>12708.98</td>\n",
       "    </tr>\n",
       "    <tr>\n",
       "      <th>score</th>\n",
       "      <td>LGBMRegressor</td>\n",
       "      <td>3</td>\n",
       "      <td>[{\"boosting_type\": \"goss\", \"colsample_bytree\":...</td>\n",
       "      <td>40.94</td>\n",
       "      <td>285.97</td>\n",
       "      <td>13411.79</td>\n",
       "    </tr>\n",
       "    <tr>\n",
       "      <th>score</th>\n",
       "      <td>RandomForestRegressor</td>\n",
       "      <td>5</td>\n",
       "      <td>[{\"bootstrap\": \"True\", \"max_depth\": 11, \"max_f...</td>\n",
       "      <td>44.32</td>\n",
       "      <td>235.08</td>\n",
       "      <td>15981.15</td>\n",
       "    </tr>\n",
       "  </tbody>\n",
       "</table>\n",
       "</div>"
      ],
      "text/plain": [
       "                  model_name  experiment_num  \\\n",
       "score           XGBRegressor               2   \n",
       "score          LGBMRegressor               4   \n",
       "score           XGBRegressor               1   \n",
       "score          LGBMRegressor               3   \n",
       "score  RandomForestRegressor               5   \n",
       "\n",
       "                                                  config    mae    mape  \\\n",
       "score  [{\"booster\": \"gbtree\", \"colsample_bytree\": 1.0...  34.77  157.25   \n",
       "score  [{\"boosting_type\": \"gbdt\", \"colsample_bytree\":...  36.74  155.95   \n",
       "score  [{\"booster\": \"gbtree\", \"colsample_bytree\": 1.0...  38.67  252.00   \n",
       "score  [{\"boosting_type\": \"goss\", \"colsample_bytree\":...  40.94  285.97   \n",
       "score  [{\"bootstrap\": \"True\", \"max_depth\": 11, \"max_f...  44.32  235.08   \n",
       "\n",
       "            mse  \n",
       "score  11397.45  \n",
       "score  12422.04  \n",
       "score  12708.98  \n",
       "score  13411.79  \n",
       "score  15981.15  "
      ]
     },
     "execution_count": 3,
     "metadata": {},
     "output_type": "execute_result"
    }
   ],
   "source": [
    "results = [parsing_output(i) for i in range(1, 6)]\n",
    "\n",
    "pd.concat(results).sort_values('mse')"
   ]
  },
  {
   "cell_type": "code",
   "execution_count": 6,
   "id": "7fcf5ceb",
   "metadata": {},
   "outputs": [
    {
     "data": {
      "text/plain": [
       "{'booster': 'gbtree',\n",
       " 'colsample_bytree': 1.0,\n",
       " 'learning_rate': 0.05,\n",
       " 'max_depth': 11,\n",
       " 'min_child_weight': 1.0,\n",
       " 'n_estimators': 1000,\n",
       " 'subsample': 0.5}"
      ]
     },
     "execution_count": 6,
     "metadata": {},
     "output_type": "execute_result"
    }
   ],
   "source": [
    "best_params = json.loads(parsing_output(2)['config']['score'])[0]\n",
    "best_params"
   ]
  },
  {
   "cell_type": "code",
   "execution_count": 7,
   "id": "dc9ad619",
   "metadata": {},
   "outputs": [],
   "source": [
    "le = LabelEncoder()\n",
    "base_df['zip_code_le'] = le.fit_transform(base_df['zip_code'])\n",
    "\n",
    "base_df['log_cnt'] = np.log10(base_df['cnt'])\n",
    "\n",
    "train_df, test_df = split_train_and_test_period(base_df, 7)\n",
    "\n",
    "x_train, x_test, y_train_log, y_test_raw, y_test_log = split_x_and_y_log(train_df, test_df, y='log_cnt')"
   ]
  },
  {
   "cell_type": "code",
   "execution_count": 10,
   "id": "f95a6ad2",
   "metadata": {},
   "outputs": [
    {
     "data": {
      "text/plain": [
       "XGBRegressor(base_score=0.5, booster='gbtree', colsample_bylevel=1,\n",
       "             colsample_bynode=1, colsample_bytree=1.0, gamma=0, gpu_id=-1,\n",
       "             importance_type='gain', interaction_constraints='',\n",
       "             learning_rate=0.05, max_delta_step=0, max_depth=11,\n",
       "             min_child_weight=1.0, missing=nan, monotone_constraints='()',\n",
       "             n_estimators=1000, n_jobs=1, num_parallel_tree=1, random_state=0,\n",
       "             reg_alpha=0, reg_lambda=1, scale_pos_weight=1, subsample=0.5,\n",
       "             tree_method='exact', validate_parameters=1, verbosity=None)"
      ]
     },
     "execution_count": 10,
     "metadata": {},
     "output_type": "execute_result"
    }
   ],
   "source": [
    "best_model = XGBRegressor(**best_params)\n",
    "best_model.fit(x_train, y_train_log)"
   ]
  },
  {
   "cell_type": "code",
   "execution_count": 11,
   "id": "f1ed6a2b",
   "metadata": {},
   "outputs": [],
   "source": [
    "y_pred = best_model.predict(x_test)"
   ]
  },
  {
   "cell_type": "markdown",
   "id": "b032a35c",
   "metadata": {},
   "source": [
    "### Data 복구"
   ]
  },
  {
   "cell_type": "code",
   "execution_count": 12,
   "id": "a8d996e9",
   "metadata": {},
   "outputs": [
    {
     "data": {
      "text/html": [
       "<div>\n",
       "<style scoped>\n",
       "    .dataframe tbody tr th:only-of-type {\n",
       "        vertical-align: middle;\n",
       "    }\n",
       "\n",
       "    .dataframe tbody tr th {\n",
       "        vertical-align: top;\n",
       "    }\n",
       "\n",
       "    .dataframe thead th {\n",
       "        text-align: right;\n",
       "    }\n",
       "</style>\n",
       "<table border=\"1\" class=\"dataframe\">\n",
       "  <thead>\n",
       "    <tr style=\"text-align: right;\">\n",
       "      <th></th>\n",
       "      <th>month</th>\n",
       "      <th>day</th>\n",
       "      <th>weekday</th>\n",
       "      <th>hour</th>\n",
       "      <th>is_weekend</th>\n",
       "      <th>zip_code_le</th>\n",
       "    </tr>\n",
       "  </thead>\n",
       "  <tbody>\n",
       "    <tr>\n",
       "      <th>65118</th>\n",
       "      <td>1</td>\n",
       "      <td>24</td>\n",
       "      <td>5</td>\n",
       "      <td>0</td>\n",
       "      <td>1</td>\n",
       "      <td>204</td>\n",
       "    </tr>\n",
       "    <tr>\n",
       "      <th>65119</th>\n",
       "      <td>1</td>\n",
       "      <td>24</td>\n",
       "      <td>5</td>\n",
       "      <td>0</td>\n",
       "      <td>1</td>\n",
       "      <td>273</td>\n",
       "    </tr>\n",
       "  </tbody>\n",
       "</table>\n",
       "</div>"
      ],
      "text/plain": [
       "       month  day  weekday  hour  is_weekend  zip_code_le\n",
       "65118      1   24        5     0           1          204\n",
       "65119      1   24        5     0           1          273"
      ]
     },
     "execution_count": 12,
     "metadata": {},
     "output_type": "execute_result"
    }
   ],
   "source": [
    "test_df.head(2)"
   ]
  },
  {
   "cell_type": "code",
   "execution_count": 13,
   "id": "e005901c",
   "metadata": {},
   "outputs": [],
   "source": [
    "test_df['y_true'] = y_test_raw\n",
    "test_df['y_pred'] = 10**y_pred\n",
    "\n",
    "test_df['year'] = 2015\n",
    "test_df['datetime'] = pd.to_datetime(test_df[['year', 'month', 'day', 'hour']])\n",
    "\n",
    "test_df['zip_code'] = le.inverse_transform(test_df['zip_code_le'])"
   ]
  },
  {
   "cell_type": "code",
   "execution_count": 14,
   "id": "a81d14c6",
   "metadata": {},
   "outputs": [
    {
     "data": {
      "text/html": [
       "<div>\n",
       "<style scoped>\n",
       "    .dataframe tbody tr th:only-of-type {\n",
       "        vertical-align: middle;\n",
       "    }\n",
       "\n",
       "    .dataframe tbody tr th {\n",
       "        vertical-align: top;\n",
       "    }\n",
       "\n",
       "    .dataframe thead th {\n",
       "        text-align: right;\n",
       "    }\n",
       "</style>\n",
       "<table border=\"1\" class=\"dataframe\">\n",
       "  <thead>\n",
       "    <tr style=\"text-align: right;\">\n",
       "      <th></th>\n",
       "      <th>month</th>\n",
       "      <th>day</th>\n",
       "      <th>weekday</th>\n",
       "      <th>hour</th>\n",
       "      <th>is_weekend</th>\n",
       "      <th>zip_code_le</th>\n",
       "      <th>y_true</th>\n",
       "      <th>y_pred</th>\n",
       "      <th>year</th>\n",
       "      <th>datetime</th>\n",
       "      <th>zip_code</th>\n",
       "    </tr>\n",
       "  </thead>\n",
       "  <tbody>\n",
       "    <tr>\n",
       "      <th>87018</th>\n",
       "      <td>1</td>\n",
       "      <td>31</td>\n",
       "      <td>5</td>\n",
       "      <td>23</td>\n",
       "      <td>1</td>\n",
       "      <td>202</td>\n",
       "      <td>1</td>\n",
       "      <td>1.786053</td>\n",
       "      <td>2015</td>\n",
       "      <td>2015-01-31 23:00:00</td>\n",
       "      <td>11213</td>\n",
       "    </tr>\n",
       "    <tr>\n",
       "      <th>87019</th>\n",
       "      <td>1</td>\n",
       "      <td>31</td>\n",
       "      <td>5</td>\n",
       "      <td>23</td>\n",
       "      <td>1</td>\n",
       "      <td>197</td>\n",
       "      <td>1</td>\n",
       "      <td>1.068274</td>\n",
       "      <td>2015</td>\n",
       "      <td>2015-01-31 23:00:00</td>\n",
       "      <td>11208</td>\n",
       "    </tr>\n",
       "  </tbody>\n",
       "</table>\n",
       "</div>"
      ],
      "text/plain": [
       "       month  day  weekday  hour  is_weekend  zip_code_le  y_true    y_pred  \\\n",
       "87018      1   31        5    23           1          202       1  1.786053   \n",
       "87019      1   31        5    23           1          197       1  1.068274   \n",
       "\n",
       "       year            datetime zip_code  \n",
       "87018  2015 2015-01-31 23:00:00    11213  \n",
       "87019  2015 2015-01-31 23:00:00    11208  "
      ]
     },
     "execution_count": 14,
     "metadata": {},
     "output_type": "execute_result"
    }
   ],
   "source": [
    "test_df.tail(2)"
   ]
  },
  {
   "cell_type": "markdown",
   "id": "b55d021c",
   "metadata": {},
   "source": [
    "#### Datetime별 차이"
   ]
  },
  {
   "cell_type": "code",
   "execution_count": 15,
   "id": "3536083e",
   "metadata": {},
   "outputs": [
    {
     "data": {
      "image/png": "[encoded data removed]",
      "text/plain": [
       "<Figure size 432x288 with 1 Axes>"
      ]
     },
     "metadata": {
      "image/png": {
       "height": 286,
       "width": 388
      }
     },
     "output_type": "display_data"
    }
   ],
   "source": [
    "test_df.groupby('datetime').sum()[['y_true', 'y_pred']].plot();"
   ]
  },
  {
   "cell_type": "markdown",
   "id": "8a8da643",
   "metadata": {},
   "source": [
    "#### hour별 차이\n",
    "- 새벽 시간엔 거의 유사하다가 7시부터 20시까지 계속 차이가 남"
   ]
  },
  {
   "cell_type": "code",
   "execution_count": 16,
   "id": "537b4d5e",
   "metadata": {},
   "outputs": [
    {
     "data": {
      "image/png": "[encoded data removed]",
      "text/plain": [
       "<Figure size 432x288 with 1 Axes>"
      ]
     },
     "metadata": {
      "image/png": {
       "height": 264,
       "width": 394
      }
     },
     "output_type": "display_data"
    }
   ],
   "source": [
    "test_df[['hour','y_true', 'y_pred']].groupby('hour').sum()[['y_true', 'y_pred']].plot();"
   ]
  },
  {
   "cell_type": "markdown",
   "id": "35984e05",
   "metadata": {},
   "source": [
    "#### Weekday별 차이\n",
    "- 평일 중 월, 화에 예측이 안되는 것으로 보임"
   ]
  },
  {
   "cell_type": "code",
   "execution_count": 17,
   "id": "6c17bd6e",
   "metadata": {},
   "outputs": [
    {
     "data": {
      "image/png": "[encoded data removed]",
      "text/plain": [
       "<Figure size 432x288 with 1 Axes>"
      ]
     },
     "metadata": {
      "image/png": {
       "height": 264,
       "width": 394
      }
     },
     "output_type": "display_data"
    }
   ],
   "source": [
    "test_df[['weekday','y_true', 'y_pred']].groupby('weekday').sum()[['y_true', 'y_pred']].plot();"
   ]
  },
  {
   "cell_type": "markdown",
   "id": "28a989ae",
   "metadata": {},
   "source": [
    "- 평일/주말로 기준을 나누어 봤을 때, 주말보다 평일의 예측성능이 낮은 편"
   ]
  },
  {
   "cell_type": "code",
   "execution_count": 18,
   "id": "1a8cf578",
   "metadata": {},
   "outputs": [
    {
     "data": {
      "image/png": "[encoded data removed]",
      "text/plain": [
       "<Figure size 432x288 with 1 Axes>"
      ]
     },
     "metadata": {
      "image/png": {
       "height": 272,
       "width": 378
      }
     },
     "output_type": "display_data"
    }
   ],
   "source": [
    "test_df[['is_weekend','y_true', 'y_pred']].groupby('is_weekend').sum()[['y_true', 'y_pred']].plot(kind='bar');"
   ]
  }
 ],
 "metadata": {
  "kernelspec": {
   "display_name": "Python 3",
   "language": "python",
   "name": "python3"
  },
  "language_info": {
   "codemirror_mode": {
    "name": "ipython",
    "version": 3
   },
   "file_extension": ".py",
   "mimetype": "text/x-python",
   "name": "python",
   "nbconvert_exporter": "python",
   "pygments_lexer": "ipython3",
   "version": "3.8.8"
  }
 },
 "nbformat": 4,
 "nbformat_minor": 5
}
